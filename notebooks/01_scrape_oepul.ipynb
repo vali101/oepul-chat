{
 "cells": [
  {
   "cell_type": "code",
   "execution_count": 1,
   "metadata": {},
   "outputs": [],
   "source": [
    "import sys\n",
    "import os\n",
    "from oepul_chat.data_download import get_all_oepul_pdf_anchor_tags, download_pdfs, download_html\n",
    "from oepul_chat.readers.custom_html_reader import CustomHTMLReader\n",
    "import requests\n",
    "from llama_index.schema import Document\n",
    "from bs4 import BeautifulSoup\n",
    "\n",
    "# Autoreload local library\n",
    "%load_ext autoreload\n",
    "%autoreload 2\n"
   ]
  },
  {
   "cell_type": "markdown",
   "metadata": {},
   "source": [
    "# Scrape oepul regulatory text from the web\n",
    "\n",
    "There is a [website](https://www.ama.at/formulare-merkblaetter#18053) which has a dump of all PDF files regarding the oepul regulations. This notebook is used to download all these PDFs into the data folder."
   ]
  },
  {
   "cell_type": "code",
   "execution_count": 2,
   "metadata": {},
   "outputs": [],
   "source": [
    "links = get_all_oepul_pdf_anchor_tags()\n",
    "download_pdfs(links)"
   ]
  },
  {
   "cell_type": "code",
   "execution_count": 3,
   "metadata": {},
   "outputs": [],
   "source": [
    "# Manual other links: \n",
    "links = [\"https://www.ama.at/getattachment/4d988952-847f-4847-a650-cf2e866d2ebe/20230131_Merkblatt_MFA2023_V3.pdf\", \n",
    "         \"https://www.ama.at/getattachment/abb20701-bbad-46cc-a5ef-deb2ab03ebc6/Merkblatt_Flaechenmonitoring_2023.pdf\",\n",
    "         \"https://www.ama.at/getattachment/05e60ad0-cbcb-40d3-820d-315e7fb49979/Nutzungsarten_Codes_Varianten_2023_V4.pdf\"]"
   ]
  },
  {
   "cell_type": "markdown",
   "metadata": {},
   "source": [
    "# Scrape guides from Bio Austria"
   ]
  },
  {
   "cell_type": "code",
   "execution_count": 4,
   "metadata": {},
   "outputs": [],
   "source": [
    "download_html(url='https://www.bio-austria.at/a/bauern/aktueller-planungsstand-zu-bio-im-oepul-2023/',\n",
    "              folder_path=\"data/BIO_Austria/\", filename=\"aktueller-planungsstand-zu-bio-im-oepul-2023\")\n",
    "docs = CustomHTMLReader().load_data(file=\"data/BIO_Austria/aktueller-planungsstand-zu-bio-im-oepul-2023.html\")"
   ]
  },
  {
   "cell_type": "code",
   "execution_count": 9,
   "metadata": {},
   "outputs": [
    {
     "data": {
      "text/plain": [
       "['Stand 21.10.2022',\n",
       " 'Am 13.09.2022 wurde der österreichische GAP – Strategieplan, in dem die Ausgestaltung der nächsten Förderperiode festgelegt ist, von der Europäischen Kommission genehmigt. Das entsprechende Dokument wurde vom Landwirtschaftsministerium hier veröffentlicht:',\n",
       " 'info.bml.gv.atTeil des GAP – Strategieplans ist auch das österreichische Agrarumweltprogramm (ÖPUL). Wir haben die wichtigsten Punkte, die es im ÖPUL ab 2023 zu beachten gibt auf dieser Seite zusammengefasst – angefangen von der Bio-Maßnahme bis hin zu den kombinierbaren Maßnahmen.',\n",
       " 'Den gesamten Entwurf für das ÖPUL 2023 mit allen Details finden Sie hier:info.bmlrt.gv.at',\n",
       " 'Zusätzlich zu den ÖPUL – Auflagen sind in der Förderperiode ab 2023 auch die Vorgaben der Konditionalität zu beachten. In diesem Zusammenhang weisen wir darauf hin, dass bei der Anlage von Biodiversitätsflächen auf Ackerflächen im Rahmen der ÖPUL – Biomaßnahme auch die Vorgaben der GLÖZ 8 zu berücksichtigen sind. In der Bio Austria – Zeitung 5/2022 gibt es einen ausführlichen Artikel zu diesem Thema. (Bio Austria Zeitung)',\n",
       " 'Die Biomaßnahme setzt sich aus einem mehrjährigen Basismodul und optionalen einjährigen Modulen zusammen.',\n",
       " \"['Grünland: 205 € (über 1,4 RGVE/ha) und 215 € (unter 1,4 RGVE/ha) (Tierhalterdefinition: mindestens 0,3 RGVE/ha Futterfläche)', 'Acker: 205 €', 'Dauerkulturen: 700 € (Walnuss/Edelkastanie: 500 €)']\",\n",
       " \"['Einhaltung der EU-Bio-Verordnung', 'Verzicht auf Grünlandumbruch', 'Einhaltung von Fruchtfolgeverpflichtungen\\\\n\\\\nab > 5 ha Acker: maximal 75 % Getreide und Mais, keine Kultur mehr als 55 % Anteil an Ackerfläche (ausgenommen Ackerfutter)', 'ab > 5 ha Acker: maximal 75 % Getreide und Mais, keine Kultur mehr als 55 % Anteil an Ackerfläche (ausgenommen Ackerfutter)', 'Anlage von Biodiversitätsflächen\\\\n\\\\nab > 2 ha Ackerfläche sind 7 % Biodiversitäts-Flächen anzulegenFlächen folgender Maßnahmen sind anrechenbar, wenn es sich um Ackerstillegungen handelt: Naturschutz, Ergebnisorientierte Bewirtschaftung; außerdem Mehrnutzungshecken, begrünte Abflusswege in der Maßnahme „Erosionsschutz Acker“ Auswaschungsgefährdete Ackerflächen laut Maßnahme „Vorbeugender Grundwasserschutz – Acker“ sowie Bracheflächen gemäß GLÖZ 8 beziehungsweise Gewässerrandstreifen gemäß GLÖZ 4\\\\nBetriebe unter 10 ha Ackerfläche können die Verpflichtung durch die zusätzliche Anlage von Biodiversitätsflächen auf Grünland erfüllen.', 'ab > 2 ha Ackerfläche sind 7 % Biodiversitäts-Flächen anzulegenFlächen folgender Maßnahmen sind anrechenbar, wenn es sich um Ackerstillegungen handelt: Naturschutz, Ergebnisorientierte Bewirtschaftung; außerdem Mehrnutzungshecken, begrünte Abflusswege in der Maßnahme „Erosionsschutz Acker“ Auswaschungsgefährdete Ackerflächen laut Maßnahme „Vorbeugender Grundwasserschutz – Acker“ sowie Bracheflächen gemäß GLÖZ 8 beziehungsweise Gewässerrandstreifen gemäß GLÖZ 4', 'Betriebe unter 10 ha Ackerfläche können die Verpflichtung durch die zusätzliche Anlage von Biodiversitätsflächen auf Grünland erfüllen.', 'Schläge größer 0,5 ha auf Ackerflächen mit einer überwiegenden Hangneigung >= 10 %, auf denen erosionsgefährdete Kulturen ohne erosionsmindernde Verfahren gemäß der Maßnahme „Erosionsschutz Acker“ angebaut werden, erhalten keine Ackerflächen Basismodulprämie.', 'Teilnahme an Weiterbildungsmaßnahmen3 Stunden Biodiversität und 5 Stunden Biologische Wirtschaftsweise']\",\n",
       " \"['erste Nutzung frühestens mit der zweiten Mahd von vergleichbaren Schlägen oder einmähdige Wiese (ohne Bergmähder)', 'nutzungsfreier Zeitraum nach der ersten Nutzung (Weide oder Mahd) von zumindest neun Wochen', 'Belassen von Altgrasflächen mit spätester Mahd am 15.8.', 'Neueinsaat einer dauerhaften, regionalen Grünland-Saatgutmischung aus mindestens 30 Arten aus sieben Pflanzenfamilien']\",\n",
       " \"['Auf Feldstücken mit mehr als 5 ha sind am Feldstück Biodiversitätsflächen oder andere, für Biodiversitätsflächen anrechenbare Flächen von in Summe zumindest 15 a anzulegen. Diese Verpflichtung gilt erst ab 10 ha Gesamtackerfläche am Betrieb; zur Erreichung der 15a können auch dem Feldstück zugeordnete GLÖZ-Landschaftselemente angerechnet werden Diese GLÖZ-Flächen zählen jedoch nicht für die Erreichung der 7% Grenze für Biodiversitätsflächen.', 'Neueinsaat/Einsaat einer Saatgutmischung mit mindestens sieben insektenblütigen Mischungspartnern aus mindestens drei verschiedenen Pflanzenfamilien, maximal 10 % nicht insektenblütige Mischungspartner und/oder']\",\n",
       " \"['Belassen von bestehenden Grünbrachen oder dauerhaft begrünten Acker-flächen im Rahmen von einzelflächenbezogenen Maßnahmen des ÖPUL2015, die zumindest seit dem Mehrfachantrag-Flächen 2020 durchgehend als Grünbrachen oder Ackerfutterflächen mit entsprechendem Code beantragt und seither nicht umgebrochen wurden.', 'Neueinsaaten in den Jahren 2021 und 2022 können anerkannt werden, wenn die Flächen als Biodiversitätsflächen beantragt und seither nicht umgebrochen wurden.', 'Neueinsaat bis spätestens 15.5. des Kalenderjahres, Umbruch frühestens am 15.9. des zweiten Jahres; Im Falle des Anbaues einer Winterung oder Zwischenfrucht ist der Umbruch bereits nach dem 31.07. des 2. Jahres möglich. Im Falle eines Umbruchs von Grünbrachen gilt bis 31.12. ein Nutzungsverbot auf diesen Flächen.', 'Mahd/Häckseln mindestens einmal jedes zweite Jahr, maximal zweimal pro Jahr – auf 75 % der Biodiversitätsflächen frühestens am 1.8.; keine Düngung erlaubt', 'Verbringung des Mähgutes ist erlaubt; Beweidung und Drusch sind nicht erlaubt.', 'Optionaler Zuschlag: Neueinsaat mit regionaler Acker-Saatgutmischung aus mindestens 30 Arten aus sieben Pflanzenfamilien; jährliche Mahd und Abtransport des Mähguts. Reinigungsschnitt im ersten Antragsjahr auch vor dem 01.08. zulässig.']\",\n",
       " \"['Erhaltung punktförmiger LSE (Prämiendifferenzierung zwischen Streuobst und sonstige LSE): 12 (Streuobst) bzw. 8 € pro LSE', 'Zuschlag für zusätzliche Biodiversiäts-Flächen > 7 %: 300 € /ha A, 100 € /ha GL(weitere Zuschläge möglich z.B. f. Ackerzahl >= 50 (70 €) oder Grünlandzahl >= 30 (50 €))', 'seltene landwirtschaftliche Kulturpflanzen (SLK): Prämienstufe A: 120 €, Prämienstufe B: 250 €', 'Wildkräuter- und Brutflächen (Getreideflächen mit doppeltem Reihenabstand): 250 €/ha (max. 20 ha)', 'Feldfutter, förderbare Leguminosen und Blühpflanzen (Heil- und Gewürzpflanzen):50/60/80/120 oder 150 € pro ha, je nach Kultur', 'Zuschlag für Feldgemüse und Erdbeeren: 200 €/ha', 'Bergmähwiesen (Steilflächen > 50 %): 400 €/ha', 'Anlage einer Mehrnutzungshecke: 800 €/ha', 'Monitoringzuschlag (Teilnahme an Naturschutz-Monitoringprogramm): 100 – 275 € je nach Programm']\",\n",
       " 'Hinweis: Auch Bio-Bienenstöcke können wieder beantragt werden: max.900 Stöcke/Betrieb): 28 €/Stock für ersten 100 Stöcke, 24 €/Stock für 101 bis 900',\n",
       " \"['Kombinierbare Maßnahmen:']\",\n",
       " 'Bei den kombinierbaren Maßnahmen handelt es sich um einjährige und mehrjährige Maßnahmen. Einjährig sind die Tierwohl-Maßnahmen, die Begrünungs- und Erosionsschutzmaßnahmen, die Bodennahe Gülleausbringung, Natura 2000 – Landwirtschaft und die Wasserrahmenrichtlinie-Landwirtschaft sowie der Einsatz von Nützlingen im geschützten Anbau und die Erhaltung gefährdeter Nutztierrassen. Alle anderen kombinierbaren Maßnahmen sind mehrjährig. Um die Maßnahmen „Heuwirtschaft“ oder „Humuserhalt und Bodenschutz auf umbruchsfähigem Grünland“ beantragen zu können, muss man auch an der Biomaßnahmen bzw. an der Maßnahme UBB teilnehmen.',\n",
       " \"['Begrünung Zwischenfrucht\\\\n\\\\n81 – 220 €/ha je nach Variante\\\\nmind. 1,5 ha Ackerfläche\\\\nim Begrünungsjahr aktiv angelegte Kulturen (inkl. Untersaaten) nach Hauptfrüchten\\\\nNutzung und Pflege erlaubt – Begrünung muss erhalten bleiben\\\\n7 Varianten', '81 – 220 €/ha je nach Variante', 'mind. 1,5 ha Ackerfläche', 'im Begrünungsjahr aktiv angelegte Kulturen (inkl. Untersaaten) nach Hauptfrüchten', 'Nutzung und Pflege erlaubt – Begrünung muss erhalten bleiben', '7 Varianten']\",\n",
       " \"['Begrünung System Immergrün\\\\n\\\\n70 – 90 €/ha\\\\n mind. 1,5 ha Ackerfläche\\\\nFlächendeckende Begrünung auf mind. 85 % der Ackerflächen\\\\nZwischenfrüchte: mind. 3 Mischungspartner aus 2 Pflanzenfamilien;nach dem 20.09. angelegte Zwi-schenfrüchte müssen winterhart sein, dürfen frühestens am 15.02. umgebrochen werden, können auch in Reinsaat angelegt werden.', '70 – 90 €/ha', 'mind. 1,5 ha Ackerfläche', 'Flächendeckende Begrünung auf mind. 85 % der Ackerflächen', 'Zwischenfrüchte: mind. 3 Mischungspartner aus 2 Pflanzenfamilien;nach dem 20.09. angelegte Zwi-schenfrüchte müssen winterhart sein, dürfen frühestens am 15.02. umgebrochen werden, können auch in Reinsaat angelegt werden.']\",\n",
       " \"['Erosionsschutz Acker\\\\n\\\\nTeilnahme an Zwischenfrucht oder Immergrün erforderlich\\\\nMulchsaat/Direktsaat/ Strip –Till: 50 bzw. 80 €/ha\\\\nAnhäufungen bei Erdäpfeln: 150 € /ha\\\\nBegrünte Abflusswege auf Ackerflächen: 550 €/ha\\\\nUntersaaten bei Ackerbohne, Kürbis, Soja, Sonnenblume: 75 €/ha + 15 € Zuschlag bei Teilnahme an Biomaßnahme', 'Teilnahme an Zwischenfrucht oder Immergrün erforderlich', 'Mulchsaat/Direktsaat/ Strip –Till: 50 bzw. 80 €/ha', 'Anhäufungen bei Erdäpfeln: 150 € /ha', 'Begrünte Abflusswege auf Ackerflächen: 550 €/ha', 'Untersaaten bei Ackerbohne, Kürbis, Soja, Sonnenblume: 75 €/ha + 15 € Zuschlag bei Teilnahme an Biomaßnahme']\",\n",
       " \"['Vorbeugender Grundwasserschutz Acker\\\\n\\\\nAusweitung der Gebietskulisse\\\\nSenkung der Prämie von 100 € auf 50 € bzw. für Bio von 85 € auf 25 €\\\\nZuschläge möglich\\\\nAuswaschungsgefährdete Ackerflächen integriert (500 €/ha)', 'Ausweitung der Gebietskulisse', 'Senkung der Prämie von 100 € auf 50 € bzw. für Bio von 85 € auf 25 €', 'Zuschläge möglich', 'Auswaschungsgefährdete Ackerflächen integriert (500 €/ha)']\",\n",
       " \"['Humuserhalt und Bodenschutz auf umbruchsfähigem Grünland \\\\xa0(nur in Kombi mit Bio/UBB)\\\\n\\\\n30/50/70 oder 100 €/ha je nach GLZ; 150 € Zuschlag f. artenr. Grünland\\\\nmind. 2 ha GL und Tierhalter\\\\nVerzicht auf Grünlandumbruch auf allen Flächen des Betr.\\\\nPrämie f. umbruchsfähiges GL mit Hangneigung <18 %.\\\\nGL Anteil mind. 40 % im ersten Jahr der Verpflichtung', '30/50/70 oder 100 €/ha je nach GLZ; 150 € Zuschlag f. artenr. Grünland', 'mind. 2 ha GL und Tierhalter', 'Verzicht auf Grünlandumbruch auf allen Flächen des Betr.', 'Prämie f. umbruchsfähiges GL mit Hangneigung <18 %.', 'GL Anteil mind. 40 % im ersten Jahr der Verpflichtung']\",\n",
       " \"['Heuwirtschaft (nur in Kombi mit Bio/UBB)\\\\n\\\\n135 €/ha; bei Verzicht auf Mähaufbereiter 155 €/ha\\\\nehemaliger Silageverzicht\\\\nVerzicht auf Silagebereitung, -fütterung und Lagerung am gesamten Betrieb\\\\nBewirtschaftung von mind. 2 ha gemähter Grünlandfläche\\\\nTierhalter im ersten Jahr der Verpflichtung', '135 €/ha; bei Verzicht auf Mähaufbereiter 155 €/ha', 'ehemaliger Silageverzicht', 'Verzicht auf Silagebereitung, -fütterung und Lagerung am gesamten Betrieb', 'Bewirtschaftung von mind. 2 ha gemähter Grünlandfläche', 'Tierhalter im ersten Jahr der Verpflichtung']\",\n",
       " \"['Bewirtschaftung von Bergmähdern\\\\n\\\\n350/550/900 € pro ha f. Traktor-/Motormäher-/Sensenmahd\\\\nmax. 1 Mahd pro Jahr (Prämie nur im Jahr der Mahd)\\\\nVerzicht auf Beweidung (Nachweide nach 15.08. zulässig)\\\\nGroßteil der Schlagflächen muss über 1200m liegen', '350/550/900 € pro ha f. Traktor-/Motormäher-/Sensenmahd', 'max. 1 Mahd pro Jahr (Prämie nur im Jahr der Mahd)', 'Verzicht auf Beweidung (Nachweide nach 15.08. zulässig)', 'Großteil der Schlagflächen muss über 1200m liegen']\",\n",
       " \"['Almwirtschaft\\\\n\\\\n40/60/80 € pro ha je nach Erreichbarkeit\\\\nmind. 3 ha mit mind. 3 GVE bestoßen im 1. Jahr, mind. 60 T.\\\\nZuschlag für Naturschutz auf der Alm (5 € /ha)', '40/60/80 € pro ha je nach Erreichbarkeit', 'mind. 3 ha mit mind. 3 GVE bestoßen im 1. Jahr, mind. 60 T.', 'Zuschlag für Naturschutz auf der Alm (5 € /ha)']\",\n",
       " 'Tierwohl/genet. Ressourcen:',\n",
       " \"['Tierwohl – Weide\\\\n\\\\n40 – 60 €/RGVE; 16 – 24 €/RGVE Zuschlag 150\\\\nTeilnahme mit mind. 2 RGVE /Betrieb über alle Kategorien\\\\nOptional 150 Tage Weidedauer für einzelne Kategorien\\\\nBeweidung über wesentlichen Teil des Tages\\\\nGrundfutterbedarf ist während Weidedauer überwiegend über Beweidung abzudecken', '40 – 60 €/RGVE; 16 – 24 €/RGVE Zuschlag 150', 'Teilnahme mit mind. 2 RGVE /Betrieb über alle Kategorien', 'Optional 150 Tage Weidedauer für einzelne Kategorien', 'Beweidung über wesentlichen Teil des Tages', 'Grundfutterbedarf ist während Weidedauer überwiegend über Beweidung abzudecken']\",\n",
       " \"['Tierwohl – Stallhaltung Rinder\\\\n\\\\n180 €/RGVE\\\\nTGD –Teilnahme bei Betrieben > 10 GVE\\\\nauch für weibliche Rinder (Teilnahme Qualitätsprogramm)\\\\noptionaler Zuschlag für Festmistkompostierung: 20 €/RGVE\\\\nBei gleichzeitiger Teilnahme an Tierwohl – Weide: 150 €/RGVE', '180 €/RGVE', 'TGD –Teilnahme bei Betrieben > 10 GVE', 'auch für weibliche Rinder (Teilnahme Qualitätsprogramm)', 'optionaler Zuschlag für Festmistkompostierung: 20 €/RGVE', 'Bei gleichzeitiger Teilnahme an Tierwohl – Weide: 150 €/RGVE']\",\n",
       " \"['Tierwohl – Stallhaltung Schweine\\\\n\\\\nBasisprämie für Ferkel: 180 €/GVE; Zuschlag 250 €/GVE für ausschließlich unkupierte Ferkel\\\\nBasisprämie für Jung- und Mastschweine: 65 €; Zuschlag 60 €/GVE für ausschließlich unkupierte Jung- und Mastschweine\\\\nBasisprämie für Zuchtsauen und gedeckte Jungsauen: 80 €\\\\nZuschlag für GVO freie Eiweißfuttermittel aus europ. Herkunft: 60 €/GVE\\\\nAuch Betrieben mit Freilandhaltung steht der Zugang zu der Maßnahme nun offen', 'Basisprämie für Ferkel: 180 €/GVE; Zuschlag 250 €/GVE für ausschließlich unkupierte Ferkel', 'Basisprämie für Jung- und Mastschweine: 65 €; Zuschlag 60 €/GVE für ausschließlich unkupierte Jung- und Mastschweine', 'Basisprämie für Zuchtsauen und gedeckte Jungsauen: 80 €', 'Zuschlag für GVO freie Eiweißfuttermittel aus europ. Herkunft: 60 €/GVE', 'Auch Betrieben mit Freilandhaltung steht der Zugang zu der Maßnahme nun offen']\",\n",
       " \"['Tierwohl – Behirtung\\\\n\\\\n75 € f. die ersten 20 RGVE, 140 €/RGVE Milchvieh-Zuschlag;\\\\nab 21 RGVE 25 bzw. 100 €/RGVE\\\\nmit Teilnahme am Almbewirtschaftung verknüpft\\\\nmind. 60 Tage Behirtung\\\\nOptionaler Zuschlag Herdenschutzhund: 700 €/Hund (max. 5 Hunde je Alm)', '75 € f. die ersten 20 RGVE, 140 €/RGVE Milchvieh-Zuschlag;', 'ab 21 RGVE 25 bzw. 100 €/RGVE', 'mit Teilnahme am Almbewirtschaftung verknüpft', 'mind. 60 Tage Behirtung', 'Optionaler Zuschlag Herdenschutzhund: 700 €/Hund (max. 5 Hunde je Alm)']\",\n",
       " \"['Erhaltung gefährdeter Nutztierrassen\\\\n\\\\nStichtag: 1.4. des Antragsjahres (sofern nicht anders festgelegt)\\\\nfür Rassen mit besonderem Generhaltungsprogramm gemäß Anhang D\\\\nFörderbare Tiere sind reinrassige Zuchttiere gemäß den Tierzuchtgesetzen der Länder und den genehmigten Zuchtprogrammen mit dem Zuchtziel Erhalt der Rasse mit definierten Anforderungen.', 'Stichtag: 1.4. des Antragsjahres (sofern nicht anders festgelegt)', 'für Rassen mit besonderem Generhaltungsprogramm gemäß Anhang D', 'Förderbare Tiere sind reinrassige Zuchttiere gemäß den Tierzuchtgesetzen der Länder und den genehmigten Zuchtprogrammen mit dem Zuchtziel Erhalt der Rasse mit definierten Anforderungen.']\",\n",
       " 'Dauerkulturen:',\n",
       " \"['Erosionsschutz Obst/Wein/Hopfen\\\\n\\\\n180 – 880 €/ ha je nach Kultur u. Hangneigung\\\\nMind. 0,5 ha\\\\nganzj. Begrünung in allen Fahrgassen (mind. 3 winterharte Mischungspartner)\\\\nExtensive Weidnutzung durch Schafe, temporäre Weidenutzung durch Geflügel zulässig\\\\nOptionaler Zuschlag f. Einsatz von Organismen und Pheromonen (Bio: 67,5 – 82,5 €)', '180 – 880 €/ ha je nach Kultur u. Hangneigung', 'Mind. 0,5 ha', 'ganzj. Begrünung in allen Fahrgassen (mind. 3 winterharte Mischungspartner)', 'Extensive Weidnutzung durch Schafe, temporäre Weidenutzung durch Geflügel zulässig', 'Optionaler Zuschlag f. Einsatz von Organismen und Pheromonen (Bio: 67,5 – 82,5 €)']\",\n",
       " \"['Einsatz von Nützlingen im geschützten Anbau\\\\n\\\\nselbe Förderhöhe für gewachsenen Boden und Substratkultur: 2000 €/ha', 'selbe Förderhöhe für gewachsenen Boden und Substratkultur: 2000 €/ha']\",\n",
       " 'Allgemein:',\n",
       " \"['Naturschutz\\\\n\\\\nauf Acker- und Grünlandflächen oder auf Betriebsebene\\\\nmind. eine Nutzung alle 2 Jahre\\\\nkeine maschinelle Entsteinung, Geländekorrekturen, Ablagerungen, Aufschüttungen\\\\nkeine Ein- oder Nachsaaten auf Grünlandflächen (Ausnahme: Sanierungen)\\\\nkeine zusätzliche Düngung auf Weideflächen (Ausnahme: Mähweiden)\\\\nEinhaltung der Bewirtschaftungsauflagen laut Projektbestätigung der Naturschutzabteilung des Landes\\\\nOptionaler Zuschlag regionaler Naturschutzplan (250 €/Betrieb)', 'auf Acker- und Grünlandflächen oder auf Betriebsebene', 'mind. eine Nutzung alle 2 Jahre', 'keine maschinelle Entsteinung, Geländekorrekturen, Ablagerungen, Aufschüttungen', 'keine Ein- oder Nachsaaten auf Grünlandflächen (Ausnahme: Sanierungen)', 'keine zusätzliche Düngung auf Weideflächen (Ausnahme: Mähweiden)', 'Einhaltung der Bewirtschaftungsauflagen laut Projektbestätigung der Naturschutzabteilung des Landes', 'Optionaler Zuschlag regionaler Naturschutzplan (250 €/Betrieb)']\",\n",
       " \"['Ergebnisorientierte Bewirtschaftung\\\\n\\\\nauf Grünland und Ackerflächen möglich\\\\nVorliegen einer Projektbestätigung, welche die für die jeweilige Fläche verpflichtend erforderlichen Bedingungen definiert, notwendig.\\\\ndie Prämie orientiert sich an den flächenspezifischen Bewirtschaftungsauflagen\\\\nOptionaler Zuschlag regionaler Naturschutzplan (250 €/Betrieb)', 'auf Grünland und Ackerflächen möglich', 'Vorliegen einer Projektbestätigung, welche die für die jeweilige Fläche verpflichtend erforderlichen Bedingungen definiert, notwendig.', 'die Prämie orientiert sich an den flächenspezifischen Bewirtschaftungsauflagen', 'Optionaler Zuschlag regionaler Naturschutzplan (250 €/Betrieb)']\",\n",
       " \"['Bodennahe Ausbringung flüssiger Wirtschaftsdünger und Biogasgülle und Gülleseparierung\\\\n\\\\nauf Acker- und Grünlandflächen des Betriebes mit Schleppschuh (1,4 €/m3), Schleppschlauch (1,0 €/m3)oder Injektionsverfahren (1,6 €/m3)\\\\nSchlagbezogene Dokumentation über Menge und Art des ausgebrachten Düngers\\\\nSeparierung am Betrieb angefallener Rindergülle (1,4 €/ m3, bis max. 20 m3 je Rinder-GVE und Jahr)', 'auf Acker- und Grünlandflächen des Betriebes mit Schleppschuh (1,4 €/m3), Schleppschlauch (1,0 €/m3)oder Injektionsverfahren (1,6 €/m3)', 'Schlagbezogene Dokumentation über Menge und Art des ausgebrachten Düngers', 'Separierung am Betrieb angefallener Rindergülle (1,4 €/ m3, bis max. 20 m3 je Rinder-GVE und Jahr)']\",\n",
       " \"['Natura 2000 und andere Schutzgebiete – Landwirtschaft\\\\n\\\\nfür ausgewählte Grünlandflächen in N2000-Gebieten und Grünlandflächen in sonstigen Gebieten mit hohem Naturwert\\\\nPrämie je nach Bewirtschaftungsauflagen\\\\nProjektbestätigung von der für den Naturschutz zuständigen Stelle des Landes erforderlich', 'für ausgewählte Grünlandflächen in N2000-Gebieten und Grünlandflächen in sonstigen Gebieten mit hohem Naturwert', 'Prämie je nach Bewirtschaftungsauflagen', 'Projektbestätigung von der für den Naturschutz zuständigen Stelle des Landes erforderlich']\",\n",
       " \"['WRRL – Landwirtschaft (Steiermark)\\\\n\\\\nmind. 2 ha Ackerfläche im Gebiet des Grundwasserschutzprogramms Graz bis Bad Radkersburg\\\\nBodennutzung mit bloß geringfügiger Einwirkung auf das Grundwasser\\\\nPrämie: 50 €/ha', 'mind. 2 ha Ackerfläche im Gebiet des Grundwasserschutzprogramms Graz bis Bad Radkersburg', 'Bodennutzung mit bloß geringfügiger Einwirkung auf das Grundwasser', 'Prämie: 50 €/ha']\"]"
      ]
     },
     "execution_count": 9,
     "metadata": {},
     "output_type": "execute_result"
    }
   ],
   "source": [
    "# Function to convert HTML article element to structured dictionary\n",
    "def html_to_dict(element):\n",
    "    result = {}\n",
    "    for child in element.children:\n",
    "        if child.name is not None:\n",
    "            if child.name in ['h1', 'h2', 'h3']:\n",
    "                result[child.name] = child.get_text().strip()\n",
    "            elif child.name == 'p':\n",
    "                if 'text' not in result:\n",
    "                    result['text'] = []\n",
    "                result['text'].append(child.get_text().strip())\n",
    "            elif child.name in ['ul', 'ol']:\n",
    "                if 'lists' not in result:\n",
    "                    result['lists'] = []\n",
    "                current_list = []\n",
    "                for li in child.find_all('li'):\n",
    "                    current_list.append(li.get_text().strip())\n",
    "                result['lists'].append({child.name: current_list})\n",
    "            elif child.name == 'div':\n",
    "                if 'divs' not in result:\n",
    "                    result['divs'] = []\n",
    "                result['divs'].append(html_to_dict(child))\n",
    "    return result\n",
    "\n",
    "\n",
    "# Function to convert HTML article element to a list of llama index Documents\n",
    "def html_to_list_of_dicts_with_tags(element, header_path=[]):\n",
    "    result = []\n",
    "    for child in element.children:\n",
    "        if child.name is not None:\n",
    "            tag_type = child.name\n",
    "            if tag_type in ['h1', 'h2', 'h3']:\n",
    "                header_path.append(child.get_text().strip())\n",
    "            elif tag_type == 'p':\n",
    "\n",
    "                result.append(Document(\n",
    "                    text=child.get_text().strip(),\n",
    "                    metadata={\n",
    "                        'File Name': filename,\n",
    "                        \"Content Type\": \"text\",\n",
    "                        'Header Path': '/'.join(header_path),\n",
    "                        'tag': tag_type\n",
    "                    }\n",
    "                ))\n",
    "                # result.append({'header_path': '/'.join(header_path),\n",
    "                #               'tag': tag_type, 'content': child.get_text().strip()})\n",
    "            elif tag_type in ['ul', 'ol']:\n",
    "                current_list = []\n",
    "                for li in child.find_all('li'):\n",
    "                    current_list.append(li.get_text().strip())\n",
    "                result.append(Document(\n",
    "                    text=str(current_list),\n",
    "                    metadata={\n",
    "                        'File Name': filename,\n",
    "                        \"Content Type\": \"text\",\n",
    "                        'Header Path': '/'.join(header_path),\n",
    "                        'tag': tag_type\n",
    "                    }\n",
    "                ))\n",
    "                # result.append({'header_path': '/'.join(header_path),\n",
    "                #               'tag': tag_type, 'content': current_list})\n",
    "            elif tag_type == 'div':\n",
    "                result.extend(html_to_list_of_dicts_with_tags(\n",
    "                    child, header_path.copy()))\n",
    "    return result\n",
    "\n",
    "\n",
    "\n",
    "filename = \"test\"\n",
    "file = \"data/BIO_Austria/aktueller-planungsstand-zu-bio-im-oepul-2023.html\"\n",
    "html = open(file, 'r').read()\n",
    "soup = BeautifulSoup(html, 'html.parser')\n",
    "# Finding the specific div with id 'cs-inhalte'\n",
    "article_element = soup.find('article')\n",
    "\n",
    "\n",
    "\n",
    "html_elements = None\n",
    "try:\n",
    "    html_elements = html_to_list_of_dicts_with_tags(article_element)\n",
    "except Exception as e:\n",
    "    print(\"Failed to convert HTML to dictionary.\")\n",
    "\n",
    "[e.text for e in html_elements]"
   ]
  }
 ],
 "metadata": {
  "kernelspec": {
   "display_name": "oepul-chat",
   "language": "python",
   "name": "python3"
  },
  "language_info": {
   "codemirror_mode": {
    "name": "ipython",
    "version": 3
   },
   "file_extension": ".py",
   "mimetype": "text/x-python",
   "name": "python",
   "nbconvert_exporter": "python",
   "pygments_lexer": "ipython3",
   "version": "3.9.18"
  }
 },
 "nbformat": 4,
 "nbformat_minor": 2
}
