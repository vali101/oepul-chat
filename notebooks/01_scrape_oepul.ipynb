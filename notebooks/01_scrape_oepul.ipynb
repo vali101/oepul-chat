{
 "cells": [
  {
   "cell_type": "code",
   "execution_count": 2,
   "metadata": {},
   "outputs": [],
   "source": [
    "import sys\n",
    "import os\n",
    "from oepul_chat.data_download import get_all_oepul_pdf_anchor_tags, download_pdfs, download_html\n",
    "from oepul_chat.readers.custom_html_reader import CustomHTMLReader\n",
    "import requests\n",
    "from llama_index.schema import Document\n",
    "from bs4 import BeautifulSoup\n",
    "\n",
    "# Autoreload local library\n",
    "%load_ext autoreload\n",
    "%autoreload 2\n"
   ]
  },
  {
   "cell_type": "markdown",
   "metadata": {},
   "source": [
    "# Scrape oepul regulatory text from the web\n",
    "\n",
    "There is a [website](https://www.ama.at/formulare-merkblaetter#18053) which has a dump of all PDF files regarding the oepul regulations. This notebook is used to download all these PDFs into the data folder."
   ]
  },
  {
   "cell_type": "code",
   "execution_count": 3,
   "metadata": {},
   "outputs": [],
   "source": [
    "links = get_all_oepul_pdf_anchor_tags()\n",
    "download_pdfs(links)"
   ]
  },
  {
   "cell_type": "code",
   "execution_count": 4,
   "metadata": {},
   "outputs": [],
   "source": [
    "# Manual other links: \n",
    "links = [\"https://www.ama.at/getattachment/4d988952-847f-4847-a650-cf2e866d2ebe/20230131_Merkblatt_MFA2023_V3.pdf\", \n",
    "         \"https://www.ama.at/getattachment/abb20701-bbad-46cc-a5ef-deb2ab03ebc6/Merkblatt_Flaechenmonitoring_2023.pdf\",\n",
    "         \"https://www.ama.at/getattachment/05e60ad0-cbcb-40d3-820d-315e7fb49979/Nutzungsarten_Codes_Varianten_2023_V4.pdf\"]"
   ]
  },
  {
   "cell_type": "markdown",
   "metadata": {},
   "source": [
    "# Scrape guides from Bio Austria"
   ]
  },
  {
   "cell_type": "code",
   "execution_count": null,
   "metadata": {},
   "outputs": [],
   "source": [
    "download_html(url='https://www.bio-austria.at/a/bauern/aktueller-planungsstand-zu-bio-im-oepul-2023/',\n",
    "              folder_path=\"data/BIO_Austria/\", filename=\"aktueller-planungsstand-zu-bio-im-oepul-2023\")\n",
    "docs = CustomHTMLReader().load_data(file=\"data/BIO_Austria/aktueller-planungsstand-zu-bio-im-oepul-2023.html\")"
   ]
  }
 ],
 "metadata": {
  "kernelspec": {
   "display_name": "oepul-chat",
   "language": "python",
   "name": "python3"
  },
  "language_info": {
   "codemirror_mode": {
    "name": "ipython",
    "version": 3
   },
   "file_extension": ".py",
   "mimetype": "text/x-python",
   "name": "python",
   "nbconvert_exporter": "python",
   "pygments_lexer": "ipython3",
   "version": "3.9.18"
  }
 },
 "nbformat": 4,
 "nbformat_minor": 2
}
