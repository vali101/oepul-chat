{
 "cells": [
  {
   "cell_type": "markdown",
   "metadata": {},
   "source": [
    "# Scrape oepul regulatory text from the web\n",
    "\n",
    "There is a [website](https://www.ama.at/formulare-merkblaetter#18053) which has a dump of all PDF files regarding the oepul regulations. This notebook is used to download all these PDFs into the data folder."
   ]
  },
  {
   "cell_type": "code",
   "execution_count": 23,
   "metadata": {},
   "outputs": [],
   "source": [
    "from selenium import webdriver\n",
    "from selenium.webdriver.common.by import By\n",
    "from selenium.webdriver.common.keys import Keys\n",
    "from bs4 import BeautifulSoup\n",
    "import requests\n",
    "\n",
    "\n",
    "def get_all_oepul_pdf_anchor_tags():\n",
    "    # Initialize the web driver (make sure to specify the path to your webdriver)\n",
    "    driver = webdriver.Firefox()\n",
    "\n",
    "    # Open the website\n",
    "    url = \"https://www.ama.at/formulare-merkblaetter#18053\"\n",
    "    driver.get(url)\n",
    "\n",
    "    div_present = False\n",
    "    link_div = None\n",
    "    while not div_present:\n",
    "        driver.implicitly_wait(1)\n",
    "        try:\n",
    "            # Find the div with id \"ui-id-21\"\n",
    "            link_div = driver.find_element(By.ID, \"ui-id-21\")\n",
    "            div_present = True\n",
    "        except:\n",
    "            pass\n",
    "\n",
    "    # Parse the HTML content of the div using BeautifulSoup\n",
    "    html = link_div.get_attribute(\"innerHTML\")\n",
    "    soup = BeautifulSoup(html, 'html.parser')\n",
    "\n",
    "    # Find and download all links in the div\n",
    "    links = soup.find_all('a')\n",
    "\n",
    "    driver.quit()\n",
    "\n",
    "    return links\n",
    "\n",
    "\n",
    "def download_pdfs(links):\n",
    "    url_base = \"https://www.ama.at/\"\n",
    "    for link in links:\n",
    "        href = link.get('href')\n",
    "        # Make sure the link is an absolute URL\n",
    "        # also check ig the link is a pdf\n",
    "        if not href.startswith(\"http\"):\n",
    "            href = f\"{url_base}{href}\"\n",
    "        if not href.endswith(\".pdf\"):\n",
    "            continue\n",
    "\n",
    "        # Download the PDF files (you can adjust the file path and handling as needed)\n",
    "        response = requests.get(href)\n",
    "        if response.status_code == 200:\n",
    "            filename = href.split(\"/\")[-1]\n",
    "            filepath = f\"data/{filename}\"\n",
    "            with open(filepath, 'wb') as f:\n",
    "                f.write(response.content)\n",
    "\n",
    "\n",
    "links = get_all_oepul_pdf_anchor_tags()\n",
    "download_pdfs(links)\n"
   ]
  }
 ],
 "metadata": {
  "kernelspec": {
   "display_name": "oepul-chat",
   "language": "python",
   "name": "python3"
  },
  "language_info": {
   "codemirror_mode": {
    "name": "ipython",
    "version": 3
   },
   "file_extension": ".py",
   "mimetype": "text/x-python",
   "name": "python",
   "nbconvert_exporter": "python",
   "pygments_lexer": "ipython3",
   "version": "3.12.0"
  }
 },
 "nbformat": 4,
 "nbformat_minor": 2
}
