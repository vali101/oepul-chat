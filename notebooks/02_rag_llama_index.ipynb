{
 "cells": [
  {
   "cell_type": "markdown",
   "metadata": {},
   "source": [
    "### Imports"
   ]
  },
  {
   "cell_type": "code",
   "execution_count": 5,
   "metadata": {},
   "outputs": [
    {
     "name": "stdout",
     "output_type": "stream",
     "text": [
      "The autoreload extension is already loaded. To reload it, use:\n",
      "  %reload_ext autoreload\n"
     ]
    },
    {
     "name": "stderr",
     "output_type": "stream",
     "text": [
      "/var/folders/5l/vkbvbmf94dg7fjtyqjprh7940000gn/T/ipykernel_66528/3642679890.py:50: DeprecationWarning: Importing display from IPython.core.display is deprecated since IPython 7.14, please import from IPython display\n",
      "  from IPython.core.display import display, HTML\n"
     ]
    }
   ],
   "source": [
    "# Import packages\n",
    "from llama_index import VectorStoreIndex\n",
    "    from llama_index import SimpleDirectoryReader\n",
    "import logging\n",
    "import sys\n",
    "from llama_index import ServiceContext, LLMPredictor, OpenAIEmbedding, PromptHelper\n",
    "from llama_index.llms import OpenAI\n",
    "from llama_index.text_splitter import TokenTextSplitter\n",
    "from llama_index.node_parser import SimpleNodeParser\n",
    "from oepul_chat.readers.custom_pdf_reader import CustomPDFReader\n",
    "from oepul_chat.readers.custom_html_reader import CustomHTMLReader\n",
    "from oepul_chat.readers.custom_full_pdf_reader import CustomFullPDFReader\n",
    "from oepul_chat.rag_oepul_string_query_engine import RAGOEPULStringQueryEngine\n",
    "from llama_index import SimpleDirectoryReader\n",
    "import random\n",
    "from llama_index.schema import MetadataMode\n",
    "from langchain.embeddings.huggingface import HuggingFaceEmbeddings\n",
    "from llama_index import LangchainEmbedding, ServiceContext\n",
    "from llama_index.llms import LangChainLLM\n",
    "from llama_index import download_loader\n",
    "from llama_index.query_engine import RetrieverQueryEngine\n",
    "from llama_index.prompts import PromptTemplate\n",
    "# import QueryBundle\n",
    "from llama_index import QueryBundle\n",
    "\n",
    "# import NodeWithScore\n",
    "from llama_index.schema import NodeWithScore\n",
    "\n",
    "# Retrievers\n",
    "from llama_index.retrievers import (\n",
    "    BaseRetriever,\n",
    "    VectorIndexRetriever,\n",
    "    KeywordTableSimpleRetriever,\n",
    ")\n",
    "\n",
    "from llama_index import (\n",
    "    VectorStoreIndex,\n",
    "    SimpleKeywordTableIndex,\n",
    "    SimpleDirectoryReader,\n",
    "    ServiceContext,\n",
    "    StorageContext,\n",
    ")\n",
    "\n",
    "from typing import List\n",
    "import pickle\n",
    "\n",
    "\n",
    "\n",
    "\n",
    "from IPython.core.display import display, HTML\n",
    "\n",
    "\n",
    "\n",
    "\n",
    "PDFReader = download_loader(\"PDFReader\")\n",
    "\n",
    "\n",
    "# Import local library\n",
    "import os\n",
    "import sys\n",
    "sys.path.append(os.path.join(os.getcwd(), '..'))\n",
    "\n",
    "# Autoreload local library\n",
    "%load_ext autoreload\n",
    "%autoreload 2\n"
   ]
  },
  {
   "cell_type": "markdown",
   "metadata": {},
   "source": [
    "### Utilities"
   ]
  },
  {
   "cell_type": "code",
   "execution_count": 6,
   "metadata": {},
   "outputs": [],
   "source": [
    "def view_response(obj):\n",
    "    export = \"\"\"<div style=\"font-size: 14px;line-height: 1.5;\"><strong>Antwort</strong>:<br>\"\"\"\n",
    "    export += f\"{obj.response}<br><br>\"\n",
    "    export += \"\"\"<strong>Quellen:</strong><br>\"\"\"\n",
    "    export += \"\"\"<ul>\"\"\"\n",
    "\n",
    "    for source_node in obj.source_nodes:\n",
    "        export += f\"<li>\"\n",
    "        export += f\"<strong>{source_node.node.metadata['File Name']}</strong><br>\"\n",
    "\n",
    "        export += f\"<strong>Header Path</strong>: {source_node.node.metadata['Header Path']}<br>\"\n",
    "        export += f\"<strong>Score</strong>: {source_node.score}<br>\"\n",
    "        export += f\"<strong>Text</strong>: <i>{source_node.node.text}</i><br>\"\n",
    "        # export += f\"<strong>Metadata</strong>: {source_node.node.metadata}<br>\"\n",
    "        export += \"<br></li>\"\n",
    "\n",
    "    export += \"\"\"</ul></div>\"\"\"\n",
    "\n",
    "    display(HTML(export))\n",
    "\n",
    "\n",
    "def view_docs(docs):\n",
    "    export = \"\"\"<div style=\"font-size: 14px;line-height: 1.5;\"><ul>\"\"\"\n",
    "    for doc in docs:\n",
    "        export += f\"<li>\"\n",
    "        export += f\"<strong>{doc.metadata['File Name']}</strong><br>\"\n",
    "        export += f\"<strong>Header Path</strong>: {doc.metadata['Header Path']}<br>\"\n",
    "        export += f\"<strong>Text</strong>: <i>{doc.text}</i><br>\"\n",
    "        # export += f\"<strong>Metadata</strong>: {source_node.node.metadata}<br>\"\n",
    "        export += \"<br></li>\"\n",
    "    export += \"\"\"</ul></div>\"\"\"\n",
    "    display(HTML(export))\n",
    "\n",
    "\n",
    "def load_data(filepath, filetype, reader):\n",
    "    \"\"\"Load markdown docs from a directory, excluding all other file types.\"\"\"\n",
    "    print(f'loading data... {filepath}')\n",
    "    loader = SimpleDirectoryReader(\n",
    "        input_dir=filepath,\n",
    "        file_extractor={filetype: reader},\n",
    "        recursive=True\n",
    "    )\n",
    "\n",
    "    data = loader.load_data()\n",
    "\n",
    "    # print short summary\n",
    "    print(\"Loaded {} documents\".format(len(data)))\n",
    "    print(\"First document metadata: {}\".format(data[1].metadata))\n",
    "    print(\"First document text: {}\".format(data[1].text[0:80]))\n",
    "\n",
    "    return data"
   ]
  },
  {
   "cell_type": "markdown",
   "metadata": {},
   "source": [
    "### Logging setup"
   ]
  },
  {
   "cell_type": "code",
   "execution_count": 9,
   "metadata": {},
   "outputs": [],
   "source": [
    "logging.basicConfig(stream=sys.stdout, level=logging.INFO)\n",
    "logging.getLogger().addHandler(logging.StreamHandler(stream=sys.stdout))\n",
    "logger = logging.getLogger()\n",
    "logger.setLevel(logging.INFO)"
   ]
  },
  {
   "cell_type": "markdown",
   "metadata": {},
   "source": [
    "## Data\n",
    "\n",
    "\n",
    "### Data preprocessing, structure extraction\n",
    "I built a CustomPDFReader which can be found in `oepul_chat/custom_pdf_reader.py` it extracts the structure out of the PDF and embeds it in the metadata field `header_path` i think this is one od the first crucial steps as it gives each text element a context in all of the files. With llama index we can then give this fiel to the retriever or the LLM or both. "
   ]
  },
  {
   "cell_type": "code",
   "execution_count": 12,
   "metadata": {},
   "outputs": [
    {
     "name": "stdout",
     "output_type": "stream",
     "text": [
      "loading data... data/OEPUL_PDF/\n",
      "Loaded 442 documents\n",
      "First document metadata: {'File Name': 'O6_14_Almbewirtschaftung_2023_04.pdf', 'Content Type': 'text', 'Header Path': 'Almbewirtschaftung/ÖPUL 2023'}\n",
      "First document text: Almbewirtschaftung STAND April 2023\n",
      "loading data... data/BIO_AUSTRIA\n",
      "Loaded 38 documents\n",
      "First document metadata: {'File Name': 'aktueller-planungsstand-zu-bio-im-oepul-2023.html', 'Content Type': 'text', 'Header Path': '', 'tag': 'p'}\n",
      "First document text: Am 13.09.2022 wurde der österreichische GAP – Strategieplan, in dem die Ausgesta\n",
      "loading data... data/AMA\n",
      "Loaded 148 documents\n",
      "First document metadata: {'page_label': '2', 'file_name': '20230131_Merkblatt_MFA2023_V3.pdf'}\n",
      "First document text: Merkblatt Mehrfachantrag 2023  Seite 2 von 53 www.eama.at  | www.ama.at   \n",
      " EDIT\n"
     ]
    }
   ],
   "source": [
    "# load all official OEPUL docs with custom PDF reader\n",
    "oepul_official_docs = load_data(\"data/OEPUL_PDF/\", \".pdf\", CustomPDFReader())\n",
    "# # load html guide from BIO Austria\n",
    "bio_austria_guide = load_data(\"data/BIO_AUSTRIA\", \".html\", CustomHTMLReader())\n",
    "# # Load rest of AMA docs with simple pdf reader\n",
    "ama_official_docs = load_data(\"data/AMA\", \".pdf\", PDFReader())\n",
    "\n",
    "# merge documents lists\n",
    "docs_list = [oepul_official_docs]#[oepul_official_docs, ama_official_docs, bio_austria_guide]\n",
    "documents = [doc for docs in docs_list\n",
    "             for doc in docs]\n",
    "\n",
    "# write docs to pickle\n",
    "with open('data/documents.pickle', 'wb') as f:\n",
    "    pickle.dump(documents, f)\n",
    "\n",
    "# import docs pickle\n",
    "with open('data/documents.pickle', 'rb') as f:\n",
    "    documents = pickle.load(f)"
   ]
  },
  {
   "cell_type": "code",
   "execution_count": 16,
   "metadata": {},
   "outputs": [
    {
     "name": "stdout",
     "output_type": "stream",
     "text": [
      "loading data... data/OEPUL_PDF/\n",
      "Loaded 15 documents\n",
      "First document metadata: {'File Name': 'O6_15_Tierwohl-Behirtung_2023_04.pdf', 'Content Type': 'text'}\n",
      "First document text: ## ÜBERSICHT\n",
      "Die Prämie wird für die Behirtung von Raufutterverzehrern auf Almwe\n"
     ]
    },
    {
     "data": {
      "text/plain": [
       "[Document(id_='5af2c7ed-a9ec-4882-a262-0833cfc63f29', embedding=None, metadata={'File Name': 'O6_14_Almbewirtschaftung_2023_04.pdf', 'Content Type': 'text'}, excluded_embed_metadata_keys=[], excluded_llm_metadata_keys=[], relationships={}, hash='1fec3828f0763f1763f51e22e20c3ffa3c8947cc9cab21c95629ec4d7867f95a', text='## ÜBERSICHT\\nDie Prämie wird für Almweideflächen gewährt, die mit Tieren bestoßen werden. Gefördert werden Kosten und Einkommensverluste, die durch die Einhaltung der Verpflichtungen, insbesondere durch den höheren Arbeitszeitbedarf für Weidepflege und den Verzicht auf Mineraldünger sowie chemischen Pflanzenschutz entstehen. Optional erfolgt ein Prämienzuschlag für naturschutzfachlich begründete Auflagen. Die Maßnahme ist von der Almbewirtschafterin oder dem Almbewirtschafter zu beantragen.\\n\\n## ZIELSETZUNG\\nDie Maßnahme dient dem Erhalt der Kulturlandschaft und dem Schutz der Biodiversität durch standortangepasste Land- und Forstwirtschaft. Durch Forcierung der Berücksichtigung gebietsspezifischer Aspekte trägt die Maßnahme zur Erreichung der Biodiversitätsziele bei. Die Maßnahme soll außerdem zur Verbesserung des Oberflächen- und Grundwasserschutzes beitragen.\\n\\n## TEILNAHMEVORAUSSETZUNGEN\\n\\n\\n## VERTRAGSZEITRAUM\\nDer Verpflichtungs- und Vertragszeitraum der Maßnahme beträgt inklusive des optional beantragbaren Zuschlags „Naturschutz auf der Alm“ mindestens 4 Jahre und läuft bis 31. Dezember 2028. Informationsblatt ÖPUL 2023 Almbewirtschaftung Seite 1 von 11 www.eama.at | www.ama.at Beginn Vertragszeitraum 01.01.2023 6 Jahre (bis einschließlich 31.12.2028) 01.01.2024 5 Jahre (bis einschließlich 31.12.2028) 01.01.2025 4 Jahre (bis einschließlich 31.12.2028)\\n\\n## MINDESTTEILNAHME\\nIm ersten Teilnahmejahr müssen zumindest 3,00 ha Almweideflächen bewirtschaftet werden, welche mit mindestens 3,00 raufutterverzehrenden Großvieheinheiten (RGVE) bestoßen werden. Die Mindestteilnahmebedingungen im ersten Teilnahmejahr sind nicht auf eine Einzelalm beschränkt, sie gelten betriebsbezogen und können daher auch mit mehreren Almen des Betriebes erreicht werden. ! Hinweis: In den Folgejahren können weniger als 3,00 ha Almweideflächen bewirtschaftet werden und es kann auch eine Bestoßung mit weniger als 3,00 RGVE erfolgen.\\n\\n## TEILNAHMEFÄHIGE FLÄCHEN\\nDie Förderverpflichtungen beziehen sich auf alle Almweideflächen des Almbetriebes.\\n\\n## TEILNAHMEFÄHIGE TIERE\\nEs kann mit raufutterverzehrenden Großvieheinheiten (RGVE) gemäß dem GVE- Schlüssel laut Anhang A der Sonderrichtlinie ÖPUL 2023 teilgenommen werden, welche unter Punkt 8 aufgelistet sind. Die Sonderrichtlinie und deren Anhänge sind unter www.ama.at im Bereich ÖPUL abrufbar.\\n\\n## PROJEKTBESTÄTIGUNG NATURSCHUTZ AUF DER ALM\\nVoraussetzung für die Teilnahme am optionalen Zuschlag „Naturschutz auf der Alm“ ist das Vorliegen einer Projektbestätigung für alle Feldstücke einer Alm. Projektbestätigungen werden von der für den Naturschutz zuständigen Stelle des Landes ausgestellt. ! Hinweis: Im eAMA können im INVEKOS-GIS die vorhandenen Projektbestätigungsauflagen je Feldstück aufgerufen werden. Zusätzlich kann eine aktuelle Projektbestätigung jederzeit im eAMA im Register „Flächen“ unter dem Menüpunkt „Abfragen“ für den Betrieb generiert werden. Informationsblatt ÖPUL 2023 Almbewirtschaftung Seite 2 von 11 www.eama.at | www.ama.at\\n\\n## DEFINITIONEN\\n\\n\\n## ALM\\nEine Alm ist eine Bewirtschaftungseinheit aus Almweideflächen. Almweideflächen sind beweidete, mit Futterpflanzen (Gräser, Kräuter und Leguminosen) und krautiger Vegetation bestandene Flächen sowie der Bewuchs von Feuchtstandorten einer im Almkataster eingetragenen bzw. im Almgebiet der Bundesländer liegenden Alm, die nicht vom Heimgut aus bewirtschaftet werden. In der Natur muss ein sichtbarer Bewirtschaftungsunterschied zwischen Grünlandflächen und Almweideflächen erkennbar oder eine deutliche Grenze (z.B. Zaun, Steinmauer, natürliche Grenze) vorhanden sein. Eine Alm kann aus Nieder-, Mittel- und Hochlegern bestehen. 4.2 ERSCHLIEßUNGSZUSTAND Der Erschließungszustand bezeichnet die Erreichbarkeit der Alm mittels Straßen/Wege oder sonstiger Infrastruktur zur zeitgemäßen Bewirtschaftung der Alm und für den Lasten- /Viehtransport. Bei Vorhandensein eines Almzentrums (Wirtschaftsgebäude) erfolgt die Beurteilung des Erschließungszustandes anhand der Erschließung bis zum Wirtschaftsgebäude (Umkreis von 50 m). Bei Almen ohne Wirtschaftsgebäude ist die Zufahrtsmöglichkeit zu den Almflächen ausschlaggebend. Bei Almen mit mehreren, nicht unmittelbar aneinander angrenzenden Flächen wird bei unterschiedlichem Erschließungszustand eine Einstufung aufgrund der Auftriebszeiten vorgenommen. Der Erschließungszustand wird anhand der Almfläche mit dem längeren Auftriebszeitraum beurteilt. Das Flächenausmaß wird dabei nicht berücksichtigt. Beispiel: Die Grundalm ist durch einen Weg erschlossen, auf der eine Beweidung in den ersten Tagen der Alpungsperiode erfolgt. Die Almhütte (= Wirtschaftszentrum) ist im nicht angrenzenden Hochalmbereich, auf der die überwiegende Beweidung stattfindet, diese ist nur mit einem Fußweg erschlossen. Da in diesem Fall die Auftriebszeiten der verschiedenen Almfeldstücke stark differieren und die überwiegende Auftriebszeit eindeutig auf der Hochalm ist, kann die Alm als „nicht erschlossen“ (Alm nur über Fuß- oder Viehtriebweg erreichbar) beantragt werden. Bei Almen, bei denen mehrere Feldstücke mit unterschiedlichen Erschließungsstufen im Spiel sind, ist der Erschließungszustand zu mitteln. Dies gilt unter der Voraussetzung, dass die Auftriebszeiten der verschiedenen Almfeldstücke vergleichbar sind bzw. nicht zu stark voneinander abweichen. Beispiel: Ein Betrieb bewirtschaftet eine Niederalm und eine Hochalm. Die Niederalm ist voll erschlossen (Stufe 1), die Hochalm nur mit dem Fußweg erreichbar (Stufe 3). Auf der Niederalm stehen lediglich 15 Kühe 90 Tage, die Jungrinder (60 RGVE) gehen vorher Informationsblatt ÖPUL 2023 Almbewirtschaftung Seite 3 von 11 www.eama.at | www.ama.at 20 Tage auf die Niederalm, dann 80 Tage auf die Hochalm und dann wieder 20 Tage auf die Niederalm. Niederalm: 15 Kühe x 90 Tage + 60 RGVE Jungrinder x 40 Tage = 3.750 Alptage Hochalm: 60 RGVE Jungrinder x 80 Tage = 4.800 Alptage In diesem Beispiel ist daher Stufe 2 für die Alm zu beantragen.\\n\\n## FÖRDERBEDINGUNGEN\\n\\n\\n## MINDESTWEIDEDAUER\\nAn mindestens 60 Kalendertagen muss eine Bestoßung einer oder mehrerer in Österreich liegenden Almen durch die in der Alm/Gemeinschaftsweide-Auftriebsliste angeführten Schafe, Ziegen, Equiden (Pferde, Ponys, Esel und Kreuzungen) oder Neuweltkamele bzw. die in der „Alm-/Weidemeldung Rinder“ angeführten Rinder erfolgen. Der Auftriebstag zählt zur Weidedauer dazu, der Abtriebstag wird aber nicht als Weidetag angerechnet. Der Altersstichtag für die Beantragung und Berechnung der Tierkategorien ist der 1. Juli des jeweiligen Jahres. Die 60-tägige Mindestweidedauer muss nicht durch eine durchgängige Bestoßung erreicht werden, es können auch Unterbrechungen erfolgen. Die Unterbrechungszeiten zählen jedoch nicht zur Mindestweidedauer dazu. Werden Tiere auf andere Almen weitergetrieben, werden die gealpten Tiere für jede einzelne Alm anteilig bezogen auf die gesamte Alpungsdauer angerechnet. Die Tiere müssen jedoch in Summe mindestens 60 Alpungstage erreichen. Für Tierzugänge werden maximal 7 Tage Weidezeit vor Abgabe der Alm/Gemeinschaftsweide-Auftriebsliste bzw. vor dem tatsächlichen Meldedatum als Alpungstage angerechnet. Bei Rindern beträgt die Frist 14 Tage in Bezug auf die Alm- /Weidemeldung Rinder. Ein Abgang von beantragten Tieren ist unmittelbar zu melden. Beispiele: • Schafe werden am 15. Juni aufgetrieben, die Alm/Gemeinschaftsweide-Auftriebsliste mit den Angaben zu den betroffenen Schafen wird von der Almbewirtschafterin am 22. Juni eingereicht. Die Alpungstage werden ab 15. Juni angerechnet. • Rinder werden am 20. Juni aufgetrieben, die Alm-/Weidemeldung Rinder erfolgt jedoch erst am 10. Juli. Es wird nur die Zeit ab 26. Juni (14 Tage vor dem Meldedatum) als Alpungstage angerechnet. Grundsätzlich müssen sich alle beantragten Tiere Tag und Nacht auf der Alm befinden. Die Beweidung muss zumindest über einen wesentlichen Teil des Tages erfolgen. Dadurch soll eine möglichst flächendeckende Beweidung aller Almflächen erreicht werden. Bei Gefahr oder anderen widrigen Umständen können die Tiere in den Almstall getrieben Informationsblatt ÖPUL 2023 Almbewirtschaftung Seite 4 von 11 www.eama.at | www.ama.at werden. Ein Unterstand oder der Stall kann auch für die Tiere frei zugänglich (jederzeit aufsuchbar und verlassbar) sein. Deshalb ist es möglich, dass Almtiere die Hälfte eines Tages (z.B. zwischen den Melkzeiten, tags oder nachts) im Almstall verbringen, wenn dies aus arbeitswirtschaftlichen oder tiergesundheitlichen Gründen erforderlich ist. In der restlichen Zeit muss den Tieren ständiger Zugang zur Almweidefläche gewährt werden. Wird diese Bedingung nicht erfüllt, hat eine Meldung an die AMA (bei Rindern online über www.eama.at) zu erfolgen. Für diese Tiere kann keine Prämie gewährt werden. Werden bei an das Heimgut angrenzenden Almen die Tiere zum Melken in den Heimstall getrieben, dürfen sie dort nur für die Dauer des Melkvorganges verbleiben.\\n\\n## MAXIMALER VIEHBESATZ\\nEs dürfen maximal 2,00 RGVE/ha Almweidefläche aufgetrieben werden. Werden mehrere Almen als Teilbetriebe bewirtschaftet, wird der maximale Viehbesatz für jede einzelne Alm separat gerechnet. Für den maximalen Viehbesatz werden nur Tiere angerechnet, die mindestens 60 Tage auf Almen aufgetrieben werden. Almflächen im Ausland können bezüglich Entlastung des maximalen Viehbesatzes berücksichtigt werden. Es ist jedoch nicht möglich, bestoßene Almflächen im Ausland im Mehrfachantrag zu beantragen, da nur die Fläche in Österreich gefördert werden kann. Reicht die Alm ins Ausland und wird durch die aufgetriebenen Tiere der maximal erlaubte Viehbesatz überschritten, ist dafür jährlich eine gesonderte Meldung an die AMA mit Nachweis über die Bewirtschaftung der angrenzenden ausländischen Almflächen erforderlich, um die Einhaltung des Viehbesatzes von maximal 2,00 RGVE/ha zu belegen. Beispiele: • Almweidefläche: 10 ha Auftrieb: 18 Kühe je 120 Tage; 8 Kälber je 20 Tage; Alle Tiere werden nur auf eine Alm aufgetrieben. Die 8 Kälber werden nicht für den Maximalviehbesatz angerechnet, da keine 60 Alpungstage erreicht werden. 18 Kühe: 18,00 RGVE 8 Kälber: 0,00 RGVE Summe: 18,00 RGVE Da die Alm über 10,00 ha Almweidefläche verfügt, ergibt sich ein Viehbesatz von 1,80 RGVE/ha Almweidefläche und somit kein Überbesatz. • Alm A 10 ha und Alm B 3,5 ha Auftrieb: 20 Kühe je 120 Tage; 4 Kälber je 80 Tage; 2 Kalbinnen über 2 Jahre je 130 Tage, 9 weibliche Schafe nicht gemolken und 10 Lämmer je 120 Tage; Alle Kühe werden nur auf die Alm A aufgetrieben, die 4 Kälber sind 30 Tage auf Alm A und 50 Tage auf Alm B, die 2 Kalbinnen über 2 Jahre sind 80 Tage auf Alm A und 50 Informationsblatt ÖPUL 2023 Almbewirtschaftung Seite 5 von 11 www.eama.at | www.ama.at Tage auf Alm B. Alle Schafe werden nur auf Alm B aufgetrieben. Die 4 Kälber werden auf Alm A nur mit 30/80 ihres RGVE-Wertes angerechnet, die 2 Kalbinnen über 2 Jahre mit 80/130 ihres RGVE-Wertes. Somit ergibt sich folgende Berechnung für Alm A: 20 Kühe: 20 RGVE 4 Kälber 30/80: 0,60 RGVE 2 Kalbinnen über 2 Jahre 80/130: 1,23 RGVE Summe: 21,83 RGVE Da die Alm A nur über 10,00 ha Almweidefläche verfügt, ergibt sich ein Viehbesatz von 2,18 RGVE/ha und somit ein Überbesatz. Für Alm B ergibt sich folgende Berechnung: 4 Kälber 50/80: 1,00 RGVE 2 Kalbinnen über 2 Jahre 50/130: 0,77 RGVE 9 weibliche Schafe nicht gemolken: 1,35 RGVE 10 Lämmer: 0,70 RGVE Summe: 3,82 RGVE Da die Alm über 3,5 ha Almweidefläche verfügt, ergibt sich ein Viehbesatz von 1,09 RGVE/ha Almweidefläche und somit kein Überbesatz.\\n\\n## NATÜRLICHE FUTTERGRUNDLAGE\\nDie natürliche Futtergrundlage der Alm muss für die aufgetriebenen RGVE ausreichend sein. Eine Zufütterung mit Grundfutter ist daher grundsätzlich nicht erlaubt. Eine Ausgleichsfütterung mit z.B. Heu zum Rohfaserausgleich, Mineralstoffergänzung zur Vermeidung von Mangelerscheinungen oder Kraftfutter zur Aufrechterhaltung der Milchleistung ist zulässig. Das Heu kann auch vom Heimbetrieb auf die Alm gebracht werden. Die Verfütterung von Silage und almfremdem Grünfutter ist verboten. Eine Verfütterung von auf der Alm gewonnenem Grünfutter oder Heu (z.B. in Notzeiten) ist jedoch möglich.\\n\\n## PFLANZENSCHUTZ\\nDer Einsatz von Pflanzenschutzmitteln ist nicht erlaubt. Ausgenommen sind Pflanzenschutzmittel, die ausschließlich Wirkstoffe enthalten, die gemäß der Bio- Verordnung (EU) 2018/848 verwendet werden dürfen. Die erlaubten Mittel können online auf www.betriebsmittelbewertung.at abgefragt werden. Im Fall eines flächigen Pflanzenschutzmitteleinsatzes besteht eine gesonderte Angabeverpflichtung im Mehrfachantrag. Informationsblatt ÖPUL 2023 Almbewirtschaftung Seite 6 von 11 www.eama.at | www.ama.at Folgende Codes sind im INVEKOS-GIS auf www.eama.at bei betroffenen Schlägen zu erfassen, wenn ein flächiger Pflanzenschutzmitteleinsatz erfolgt: Code Bezeichnung PSMBIO im Biolandbau zugelassene Pflanzenschutzmittel PSMCS chemisch-synthetische Pflanzenschutzmittel ! Hinweis: Die Angabe der Codes kann auch im Vorhinein erfolgen, wenn ein entsprechender Pflanzenschutzmitteleinsatz geplant ist. Sobald absehbar ist, dass doch kein Einsatz durchgeführt wird, ist die Codierung zu streichen. Änderungen oder Nachtragungen von Codes haben umgehend zu erfolgen.\\n\\n## DÜNGUNG\\nDie Ausbringung von Düngemitteln ist nicht erlaubt. Ausgenommen sind Düngemittel, die gemäß der Bio-Verordnung (EU) 2018/848 zugelassen sind. Die erlaubten Düngemittel können online auf www.betriebsmittelbewertung.at abgefragt werden. Ebenso muss auf die Ausbringung von nicht auf der Alm angefallener Gülle oder Jauche sowie von Klärschlamm und kompostiertem Klärschlamm verzichtet werden. Gülle oder Jauche, die nicht in einem auf der Almfläche befindlichen Stall anfällt, ist als „almfremd“ zu betrachten und darf daher nicht ausgebracht werden. Ein separierter Gülleanteil in fester Form vom Heimbetrieb ist ebenfalls nicht zulässig. Mist von Heimbetrieben darf ausgebracht werden. Der Mist muss dabei nicht vom eigenen Heimbetrieb stammen.\\n\\n## ZUSCHLAG – NATURSCHUTZ AUF DER ALM\\nLiegt eine Projektbestätigung von der für den Naturschutz zuständigen Stelle des Landes vor und wird der optionale Zuschlag „Naturschutz auf der Alm“ beantragt, müssen zusätzlich folgende Förderverpflichtungen eingehalten werden: • Es müssen die Bewirtschaftungsauflagen gemäß der Projektbestätigung auf allen Feldstücken einer Alm (Almbetriebsnummer) eingehalten werden. Die Bewirtschaftungsauflagen, die auf Grundlage des Anhangs E der Sonderrichtlinie ÖPUL 2023 festgelegt werden, können die Themen Weidemanagement, Düngemanagement sowie Biotopmanagement und Pflege von strukturreichen Flächen umfassen. • Es dürfen maximal 1,50 RGVE/ha Almweidefläche je teilnehmende Alm aufgetrieben werden. Werden mehrere Almen als Teilbetriebe bewirtschaftet, wird der maximale Viehbesatz für jede einzelne Alm separat gerechnet. Für den maximalen Viehbesatz werden nur Tiere angerechnet, die mindestens 60 Tage auf Almen aufgetrieben werden (siehe dazu auch Punkt 5.2 Maximaler Viehbesatz). • Es muss vollständig auf organische oder mineralische Düngemittel in Mooren, Informationsblatt ÖPUL 2023 Almbewirtschaftung Seite 7 von 11 www.eama.at | www.ama.at Feuchtflächen, Kalk- und Silikatmagerrasen verzichtet werden. Eine Ausnahme besteht nur bei Borstgrasrasen. • Es dürfen keine Geländekorrekturen oder Neuentwässerungen durchgeführt werden. Bestehende Drainagen dürfen nur im Einvernehmen mit der für Naturschutz zuständigen Stelle des Landes ertüchtigt werden. • Tränkestellen dürfen nicht in Feuchtflächen oder Quellfluren errichtet werden. • Bis spätestens 31. Dezember 2025 sind von einer am Almbetrieb maßgeblich tätigen und in die Bewirtschaftung eingebundenen Person (z.B. Hirtin, Hirte oder almbewirtschaftende Person) unabhängig von der Vorqualifikation fachspezifische Kurse im Mindestausmaß von 4 Stunden zu absolvieren. Die Inhalte des Kurses müssen in maßgeblichem Zusammenhang mit einer naturschutzorientierten und biodiversitätsfördernden Almbewirtschaftung stehen. Es sind Kurse aus dem Bildungsangebot eines vom Bundesministerium für Land- und Forstwirtschaft, Regionen und Wasserwirtschaft (BML) anerkannten Bildungsanbieters zu wählen. Anrechenbar sind Kursbesuche ab dem 1. Jänner 2022. Grundsätzlich kann der Kursbesuch einer Person nicht auf mehrere Betriebe angerechnet werden. Die Absolvierung eines Kurses ist an die geschulte Person gebunden. Verlässt die geschulte Person vor 31. Dezember 2025 den Betrieb, muss ein Kurs bis dahin nachgeholt werden. Scheidet die geschulte Person nach dem 31. Dezember 2025 vom Betrieb aus, so muss kein weiterer Kurs absolviert werden. Eine schriftliche Kursbesuchsbestätigung ist nach Aufforderung an die AMA zu übermitteln, sofern die Übermittlung nicht durch den Bildungsanbieter erfolgt. Doppelanrechnungen von ein und derselben Bildungsveranstaltung auf mehrere Verpflichtungen sind nicht zulässig. Eine Liste mit anerkannten Bildungsanbietern ist unter www.ama.at im Bereich ÖPUL zu finden.\\n\\n## BEANTRAGUNG\\nFolgende Punkte sind bei der Beantragung zu beachten: • Die Maßnahme „Almbewirtschaftung“ und der optionale Zuschlag „Naturschutz auf der Alm“ müssen vor Verpflichtungsbeginn im Maßnahmenantrag des Mehrfachantrages bis spätestens am 31. Dezember beantragt werden, um eine gültige Verpflichtung ab dem Folgejahr am Betrieb zu begründen. • Der letzte Einstieg in die Maßnahme „Almbewirtschaftung“ ist mit dem Förderjahr 2025 möglich (Beantragung bis spätestens am 31. Dezember 2024). • Der letzte Einstieg in den optionalen Zuschlag „Naturschutz auf der Alm“ ist ebenfalls mit dem Förderjahr 2025 möglich (Beantragung bis spätestens am 31. Dezember 2024). Informationsblatt ÖPUL 2023 Almbewirtschaftung Seite 8 von 11 www.eama.at | www.ama.at • Die Almweideflächen mit dem jeweiligen Futterflächenanteil sind jährlich in der Feldstücksliste des Mehrfachantrages bis spätestens am 15. April (in den Jahren 2023 und 2028 am 17. April) zu beantragen. • Die Alm/Gemeinschaftsweide-Auftriebsliste gilt als Zahlungsantrag für die Maßnahme und ist bis spätestens am 15. Juli (in den Jahren 2023 und 2028 am 17. Juli) einzureichen. Eine Ausnahme gilt hier für nur mit Rindern bestoßene Almen mit der Erschließungsstufe 1, bei diesen kann auf die Abgabe der Alm/Gemeinschaftsweide- Auftriebsliste verzichtet werden, wenn auch nicht an der Maßnahme „Tierwohl – Behirtung“ teilgenommen wird. Ansonsten ist der Erschließungszustand ebenfalls bis zu diesem Termin zu beantragen. • Schafe, Ziegen, Equiden und Neuweltkamele sind mit der Alm/Gemeinschaftsweide- Auftriebsliste zu beantragen. Rinder sind über die Alm-/Weidemeldung Rinder zu beantragen. • Für die Auszahlung können nur jene Tiere anerkannt werden, die bis spätestens am 15. Juli aufgetrieben wurden. • Bei Rindern muss der Almauftrieb einzeltierbezogen binnen 14 Tagen mittels der „Alm- /Weidemeldung Rinder“ gemeldet werden. Bei späterer Meldung gelten die Tiere maximal 14 Tage vor dem Meldedatum als gealpt. Die Meldung des Abtriebsdatums muss unmittelbar erfolgen. • Schafe und Ziegen müssen einzeltierbezogen mit Angabe der Ohrmarke (Kennzeichnung) beantragt werden. Die Meldefrist für den Auftrieb beträgt 7 Tage und die Tiere gelten maximal 7 Tage vor dem Meldedatum als gealpt. Die Meldung des Abtriebsdatums muss unmittelbar erfolgen. • Equiden und Neuweltkamele werden in Stück beantragt. Die Meldefrist für den Auftrieb beträgt 7 Tage und es werden maximal 7 Tage vor dem Meldedatum als Alpungstage anerkannt. Bereits beim Auftrieb kann das (voraussichtliche) Abtriebsdatum angegeben werden. Es ist keine Nachmeldung erforderlich, wenn dieses mit dem tatsächlichen Abtriebsdatum übereinstimmt – ansonsten muss unmittelbar eine Korrektur erfolgen. • Bei der Teilnahme am Zuschlag „Naturschutz auf der Alm“ sind sämtliche Schläge der betroffenen Alm mit dem Code NATA zu kennzeichnen. Die Codierung in der Feldstücksliste des Mehrfachantrages muss bis spätestens am 15. April (in den Jahren 2023 und 2028 am 17. April) erfolgen. ! Achtung: Die erforderlichen Meldungen im Rahmen der Tierkennzeichnungsvorschriften (Rinderdatenbank, Verbrauchergesundheitsinformationssystem) sind unabhängig von der Förderbeantragung durchzuführen. Informationsblatt ÖPUL 2023 Almbewirtschaftung Seite 9 von 11 www.eama.at | www.ama.at\\n\\n## HÖHE DER PRÄMIE\\nStufe 1: Alm mit Allradtraktor und Anhänger über Weg mit Unterbau 40 Euro/ha erreichbar Almweideflächen Stufe 2: Alm nur mit Seilbahn oder 60 Euro/ha Bergbauern-Spezialmaschine erreichbar Stufe 3: Alm nur mit Fuß- oder 80 Euro/ha Viehtriebweg erreichbar Grundprämie und Zuschläge zu optionaler Zuschlag Weidemanagement, Düngemanagement Naturschutz auf der Alm und Biotopmanagement gemäß Projektbestätigung Die Prämie wird für maximal 1,00 ha Almweidefläche je RGVE, maximal jedoch im Ausmaß der Almweidefläche, gewährt. Die RGVE-Berechnung basiert auf den Umrechnungsfaktoren laut Anhang A der Sonderrichtlinie ÖPUL 2023 (siehe Punkt 8 – RGVE-Schlüssel). Werden mehrere Almen als Teilbetriebe bewirtschaftet, wird die Erschließung, die Begrenzung der Prämie auf 1,00 ha/RGVE und der Maximalviehbesatz von 2,00 RGVE/ha Almweidefläche für jede Alm separat gerechnet. Modulation: Bei Überschreitung von 200,00 ha Almweideflächen bzw. 200,00 RGVE wird bei der Maßnahme „Almbewirtschaftung“ das Minimum aus RGVE und ha Almweidefläche für die Berechnung des Modulationsfaktors herangezogen. Die Betriebsgrößenmodulation wird aus der Summe der RGVE und Almweideflächen des gesamten Betriebes berechnet. Beispiele: • Auf einer Alm mit 50 ha Futterfläche werden 43 RGVE aufgetrieben. Die Prämie wird für 43 ha gewährt. • Auf einer Alm mit 50 ha Futterfläche werden 67 RGVE aufgetrieben. Die Prämie wird für 50 ha gewährt. • Auf die ALM A mit 150 ha und die ALM B mit 100 ha – in Summe 250 ha – werden insgesamt 180 RGVE aufgetrieben. Es erfolgt keine Modulation, da die Prämie nur für 180 ha gewährt wird. • Auf die ALM A mit 150 ha und die ALM B mit 100 ha – in Summe 250 ha – werden insgesamt 300 RGVE aufgetrieben. Es werden 200 ha mit 100 % der Prämie und 50 ha mit 90 % der Prämie ausbezahlt. Informationsblatt ÖPUL 2023 Almbewirtschaftung Seite 10 von 11 www.eama.at | www.ama.at\\n\\n## RGVE-SCHLÜSSEL\\nTierart RGVE pro Stück Rinder Rinder unter ½ Jahr 0,40 Rinder ½ bis unter 2 Jahre 0,60 Rinder ab 2 Jahre 1,00 Zwergrinder unter ½ Jahr 0,20 Zwergrinder ½ bis unter 2 Jahre 0,30 Zwergrinder ab 2 Jahre 0,50 Schafe Schafe ab 1 Jahr 0,15 Schafe bis unter 1 Jahr 0,07 Ziegen Ziegen ab 1 Jahr 0,15 Ziegen bis unter 1 Jahr 0,07 Equiden (Pferde, Ponys, Esel und Kreuzungen) Rassen Fohlen unter ½ Jahr 0,20 Widerristhöhe bis 1,48 m Jungtiere ½ bis unter 3 Jahre 0,30 und Endgewicht bis 300 kg Stuten, Hengste, Wallache ab 3 Jahre 0,50 Rassen Fohlen unter ½ Jahr 0,40 Widerristhöhe über 1,48 m Jungtiere ½ bis unter 3 Jahre 0,60 oder Endgewicht über 300 kg Stuten, Hengste, Wallache ab 3 Jahre 1,00 Neuweltkamele Neuweltkamele ab 1 Jahr 0,15 Neuweltkamele unter 1 Jahr 0,07 IMPRESSUM: Informationsblatt „ÖPUL 2023 – Almbewirtschaftung“ der Agrarmarkt Austria (AMA) Medieninhaber, Herausgeber, Vertrieb, Redaktion: Agrarmarkt Austria, Dresdner Straße 70, 1200 Wien, Telefon: +43 50 3151 - 0, Telefax: +43 50 3151-295, E-Mail: oepul@ama.gv.at Dieses Informationsblatt enthält rechtlich unverbindliche Aussagen. Im Sinne des Gleichheitsgrundsatzes haben die Ausführungen in gleicher Weise für alle Geschlechter Geltung. Informationsblatt ÖPUL 2023 Almbewirtschaftung Seite 11 von 11 www.eama.at | www.ama.at\\n\\n', start_char_idx=None, end_char_idx=None, text_template='{metadata_str}\\n\\n{content}', metadata_template='{key}: {value}', metadata_seperator='\\n')]"
      ]
     },
     "execution_count": 16,
     "metadata": {},
     "output_type": "execute_result"
    }
   ],
   "source": [
    "test_docs = oepul_official_docs = load_data(\n",
    "    \"data/OEPUL_PDF/\", \".pdf\", CustomFullPDFReader())"
   ]
  },
  {
   "cell_type": "code",
   "execution_count": 29,
   "metadata": {},
   "outputs": [],
   "source": [
    "test_docs_sub = test_docs[0:1]"
   ]
  },
  {
   "cell_type": "code",
   "execution_count": null,
   "metadata": {},
   "outputs": [],
   "source": []
  },
  {
   "cell_type": "code",
   "execution_count": 30,
   "metadata": {},
   "outputs": [
    {
     "name": "stderr",
     "output_type": "stream",
     "text": [
      "Parsing documents into nodes: 100%|██████████| 1/1 [00:00<00:00, 40.36it/s]\n",
      "Summarizing documents:   0%|          | 0/1 [00:00<?, ?it/s]"
     ]
    },
    {
     "name": "stdout",
     "output_type": "stream",
     "text": [
      "current doc id: 5af2c7ed-a9ec-4882-a262-0833cfc63f29\n",
      "INFO:llama_index.indices.document_summary.base:> Generated summary for doc 5af2c7ed-a9ec-4882-a262-0833cfc63f29: Die Maßnahme \"Almbewirtschaftung\" im Rahmen des Österreichischen Programms für umweltgerechte Landwirtschaft (ÖPUL) fördert den Erhalt der Kulturlandschaft und den Schutz der Biodiversität. Um an der Maßnahme teilzunehmen, müssen Landwirte mindestens 3,00 ha Almweideflächen mit mindestens 3,00 raufutterverzehrenden Großvieheinheiten (RGVE) bewirtschaften. Die Mindestvertragslaufzeit beträgt 4 Jahre, optional mit Zuschlag bis zum 31. Dezember 2028. \n",
      "\n",
      "Die Tiere müssen mindestens 14 Tage vor dem Meldedatum auf der Alm sein und sich dort Tag und Nacht aufhalten. Der maximale Viehbesatz beträgt 2,00 RGVE pro Hektar Almweidefläche und es werden nur Tiere angerechnet, die mindestens 60 Tage auf der Alm sind. Eine Zufütterung mit Grundfutter ist grundsätzlich nicht erlaubt, jedoch ist eine Ausgleichsfütterung mit Heu, Mineralstoffergänzung oder Kraftfutter zulässig. Der Einsatz von Pflanzenschutzmitteln und Düngemitteln ist nicht erlaubt, außer es handelt sich um Mittel, die gemäß der Bio-Verordnung verwendet werden dürfen. Geländekorrekturen oder Neuentwässerungen sind nicht erlaubt, bestehende Drainagen dürfen nur im Einvernehmen mit der für Naturschutz zuständigen Stelle des Landes ertüchtigt werden. Tränkestellen dürfen nicht in Feuchtflächen oder Quellfluren errichtet werden. \n",
      "\n",
      "Optional kann ein Prämienzuschlag für naturschutzfachlich begründete Auflagen beantragt werden. Bei Teilnahme am optionalen Zuschlag \"Naturschutz auf der Alm\" gelten zusätzliche Bewirtschaftungsauflagen und der maximale Viehbesatz beträgt maximal 1,50 RGVE pro Hektar Almweidefläche. Bis zum 31. Dezember 2025 müssen fachspezifische Kurse im Mindestausmaß von 4 Stunden absolviert werden.\n",
      "\n",
      "Die genauen Förderhöhen werden nicht genannt, jedoch richtet sich die Prämie nach der Erschließungsstufe der Alm und beträgt zwischen 40 und 80 Euro pro Hektar Almweidefläche. Es gibt auch optionale Zuschläge für Weidemanagement, Düngemanagement, Naturschutz auf der Alm und Biotopmanagement. Die Prämie wird für maximal 1,00 Hektar Almweidefläche je RGVE gewährt. Die genauen Berechnungen und Beispiele sind in der Sonderrichtlinie ÖPUL 2023 zu finden. \n",
      "\n",
      "Die Almbewirtschaftung im Rahmen des ÖPUL Programms bietet eine finanzielle Unterstützung für Landwirte, die bestimmte Vorgaben zur naturschutzorientierten und biodiversitätsfördernden Bewirtschaftung ihrer Almen einhalten. Landwirte können anhand der genannten Bedingungen und Förderhöhen schnell entscheiden, ob die Maßnahme für sie in Frage kommt.\n",
      "> Generated summary for doc 5af2c7ed-a9ec-4882-a262-0833cfc63f29: Die Maßnahme \"Almbewirtschaftung\" im Rahmen des Österreichischen Programms für umweltgerechte Landwirtschaft (ÖPUL) fördert den Erhalt der Kulturlandschaft und den Schutz der Biodiversität. Um an der Maßnahme teilzunehmen, müssen Landwirte mindestens 3,00 ha Almweideflächen mit mindestens 3,00 raufutterverzehrenden Großvieheinheiten (RGVE) bewirtschaften. Die Mindestvertragslaufzeit beträgt 4 Jahre, optional mit Zuschlag bis zum 31. Dezember 2028. \n",
      "\n",
      "Die Tiere müssen mindestens 14 Tage vor dem Meldedatum auf der Alm sein und sich dort Tag und Nacht aufhalten. Der maximale Viehbesatz beträgt 2,00 RGVE pro Hektar Almweidefläche und es werden nur Tiere angerechnet, die mindestens 60 Tage auf der Alm sind. Eine Zufütterung mit Grundfutter ist grundsätzlich nicht erlaubt, jedoch ist eine Ausgleichsfütterung mit Heu, Mineralstoffergänzung oder Kraftfutter zulässig. Der Einsatz von Pflanzenschutzmitteln und Düngemitteln ist nicht erlaubt, außer es handelt sich um Mittel, die gemäß der Bio-Verordnung verwendet werden dürfen. Geländekorrekturen oder Neuentwässerungen sind nicht erlaubt, bestehende Drainagen dürfen nur im Einvernehmen mit der für Naturschutz zuständigen Stelle des Landes ertüchtigt werden. Tränkestellen dürfen nicht in Feuchtflächen oder Quellfluren errichtet werden. \n",
      "\n",
      "Optional kann ein Prämienzuschlag für naturschutzfachlich begründete Auflagen beantragt werden. Bei Teilnahme am optionalen Zuschlag \"Naturschutz auf der Alm\" gelten zusätzliche Bewirtschaftungsauflagen und der maximale Viehbesatz beträgt maximal 1,50 RGVE pro Hektar Almweidefläche. Bis zum 31. Dezember 2025 müssen fachspezifische Kurse im Mindestausmaß von 4 Stunden absolviert werden.\n",
      "\n",
      "Die genauen Förderhöhen werden nicht genannt, jedoch richtet sich die Prämie nach der Erschließungsstufe der Alm und beträgt zwischen 40 und 80 Euro pro Hektar Almweidefläche. Es gibt auch optionale Zuschläge für Weidemanagement, Düngemanagement, Naturschutz auf der Alm und Biotopmanagement. Die Prämie wird für maximal 1,00 Hektar Almweidefläche je RGVE gewährt. Die genauen Berechnungen und Beispiele sind in der Sonderrichtlinie ÖPUL 2023 zu finden. \n",
      "\n",
      "Die Almbewirtschaftung im Rahmen des ÖPUL Programms bietet eine finanzielle Unterstützung für Landwirte, die bestimmte Vorgaben zur naturschutzorientierten und biodiversitätsfördernden Bewirtschaftung ihrer Almen einhalten. Landwirte können anhand der genannten Bedingungen und Förderhöhen schnell entscheiden, ob die Maßnahme für sie in Frage kommt.\n",
      "> Generated summary for doc 5af2c7ed-a9ec-4882-a262-0833cfc63f29: Die Maßnahme \"Almbewirtschaftung\" im Rahmen des Österreichischen Programms für umweltgerechte Landwirtschaft (ÖPUL) fördert den Erhalt der Kulturlandschaft und den Schutz der Biodiversität. Um an der Maßnahme teilzunehmen, müssen Landwirte mindestens 3,00 ha Almweideflächen mit mindestens 3,00 raufutterverzehrenden Großvieheinheiten (RGVE) bewirtschaften. Die Mindestvertragslaufzeit beträgt 4 Jahre, optional mit Zuschlag bis zum 31. Dezember 2028. \n",
      "\n",
      "Die Tiere müssen mindestens 14 Tage vor dem Meldedatum auf der Alm sein und sich dort Tag und Nacht aufhalten. Der maximale Viehbesatz beträgt 2,00 RGVE pro Hektar Almweidefläche und es werden nur Tiere angerechnet, die mindestens 60 Tage auf der Alm sind. Eine Zufütterung mit Grundfutter ist grundsätzlich nicht erlaubt, jedoch ist eine Ausgleichsfütterung mit Heu, Mineralstoffergänzung oder Kraftfutter zulässig. Der Einsatz von Pflanzenschutzmitteln und Düngemitteln ist nicht erlaubt, außer es handelt sich um Mittel, die gemäß der Bio-Verordnung verwendet werden dürfen. Geländekorrekturen oder Neuentwässerungen sind nicht erlaubt, bestehende Drainagen dürfen nur im Einvernehmen mit der für Naturschutz zuständigen Stelle des Landes ertüchtigt werden. Tränkestellen dürfen nicht in Feuchtflächen oder Quellfluren errichtet werden. \n",
      "\n",
      "Optional kann ein Prämienzuschlag für naturschutzfachlich begründete Auflagen beantragt werden. Bei Teilnahme am optionalen Zuschlag \"Naturschutz auf der Alm\" gelten zusätzliche Bewirtschaftungsauflagen und der maximale Viehbesatz beträgt maximal 1,50 RGVE pro Hektar Almweidefläche. Bis zum 31. Dezember 2025 müssen fachspezifische Kurse im Mindestausmaß von 4 Stunden absolviert werden.\n",
      "\n",
      "Die genauen Förderhöhen werden nicht genannt, jedoch richtet sich die Prämie nach der Erschließungsstufe der Alm und beträgt zwischen 40 und 80 Euro pro Hektar Almweidefläche. Es gibt auch optionale Zuschläge für Weidemanagement, Düngemanagement, Naturschutz auf der Alm und Biotopmanagement. Die Prämie wird für maximal 1,00 Hektar Almweidefläche je RGVE gewährt. Die genauen Berechnungen und Beispiele sind in der Sonderrichtlinie ÖPUL 2023 zu finden. \n",
      "\n",
      "Die Almbewirtschaftung im Rahmen des ÖPUL Programms bietet eine finanzielle Unterstützung für Landwirte, die bestimmte Vorgaben zur naturschutzorientierten und biodiversitätsfördernden Bewirtschaftung ihrer Almen einhalten. Landwirte können anhand der genannten Bedingungen und Förderhöhen schnell entscheiden, ob die Maßnahme für sie in Frage kommt.\n"
     ]
    },
    {
     "name": "stderr",
     "output_type": "stream",
     "text": [
      "Summarizing documents: 100%|██████████| 1/1 [02:08<00:00, 128.14s/it]\n",
      "Generating embeddings: 100%|██████████| 1/1 [00:00<00:00,  2.52it/s]\n"
     ]
    }
   ],
   "source": [
    "from llama_index import DocumentSummaryIndex, get_response_synthesizer\n",
    "\n",
    "chatgpt = OpenAI(temperature=0, model=\"gpt-3.5-turbo\")\n",
    "service_context = ServiceContext.from_defaults(llm=chatgpt, chunk_size=1024)\n",
    "\n",
    "summary_prompt = PromptTemplate(\n",
    "    \"Du bist ein System welches Zusammenfassungen von Maßnahmen für Landwirte in Österreich aus dem Programm Österreichischen Programm für umweltgerechte Landwirtschaft kurz OEPUL erstellt.\\n\"\n",
    "    \"Hier die Informationen zu den ÖPUL Förderungen/ Maßnahmen:\\n\"\n",
    "    \"---------------------\\n\"\n",
    "    \"{context_str}\\n\"\n",
    "    \"---------------------\\n\"\n",
    "    \"Fasse die Maßnahme zusammen, achte besonders auf die Bedingungen und Förderhöhen.\\n\"\n",
    "    \"Der Landwirt sollte schnell erfassen können, ob die Maßnahme für ihn in Frage kommt.\\n\"\n",
    "    \"Zusammenfassung: \"\n",
    ")\n",
    "\n",
    "\n",
    "\n",
    "# default mode of building the index\n",
    "response_synthesizer = get_response_synthesizer(\n",
    "    response_mode=\"tree_summarize\",\n",
    "    summary_template=summary_prompt\n",
    ")\n",
    "\n",
    "doc_summary_index = DocumentSummaryIndex.from_documents(\n",
    "    test_docs_sub,\n",
    "    service_context=service_context,\n",
    "    response_synthesizer=response_synthesizer,\n",
    "    show_progress=True,\n",
    ")"
   ]
  },
  {
   "cell_type": "code",
   "execution_count": 34,
   "metadata": {},
   "outputs": [
    {
     "data": {
      "text/plain": [
       "320"
      ]
     },
     "execution_count": 34,
     "metadata": {},
     "output_type": "execute_result"
    }
   ],
   "source": [
    "doc_summary_index.get_document_summary(test_docs_sub[0].id_)"
   ]
  },
  {
   "cell_type": "code",
   "execution_count": 44,
   "metadata": {},
   "outputs": [
    {
     "name": "stdout",
     "output_type": "stream",
     "text": [
      "File Name: O6_20_Tierwohl-Weide_2023_04.pdf\n",
      "Content Type: text\n",
      "Header Path: Tierwohl – Weide/FÖRDERBEDINGUNGEN/ZUGANGSMÖGLICHKEIT DER TIERE ZU TRÄNKE UND UNTERSTELL-/MÖGLICHKEIT\n",
      "\n",
      "Für die Dauer der Weidehaltung muss für die Weidetiere eine Zugangsmöglichkeit zu einer Tränke und eine Unterstellmöglichkeit (oder Möglichkeit der raschen Verbringung in den Stall, wenn notwendig) bestehen. Als Unterstellmöglichkeit kann beispielsweise auch eine Baumgruppe dienen.\n"
     ]
    }
   ],
   "source": [
    "# Show some example\n",
    "print(random.sample(oepul_official_docs, 1)[0].get_content(\n",
    "    metadata_mode=MetadataMode.ALL))"
   ]
  },
  {
   "cell_type": "markdown",
   "metadata": {},
   "source": [
    "Llama index support different content outputs per Document or Node depending on if the retriever or the LLM is accessing the document. For now we will exlude the file name as its mostly duplicate information."
   ]
  },
  {
   "cell_type": "code",
   "execution_count": 65,
   "metadata": {},
   "outputs": [
    {
     "name": "stdout",
     "output_type": "stream",
     "text": [
      "# Embed example\n",
      "Header Path: Heuwirtschaft/TEILNAHMEVORAUSSETZUNGEN/VERTRAGSZEITRAUM\n",
      "\n",
      "Der Verpflichtungs- und Vertragszeitraum der Maßnahme beträgt mindestens 4 Jahre und läuft bis 31. Dezember 2028. Beginn Vertragszeitraum 01.01.2023 6 Jahre (bis einschließlich 31.12.2028) 01.01.2024 5 Jahre (bis einschließlich 31.12.2028) 01.01.2025 4 Jahre (bis einschließlich 31.12.2028) Für die zusätzlich beantragbare Option „Verzicht auf Mähaufbereiter“ läuft der Verpflichtungs- und Vertragszeitraum über ein Kalenderjahr (1. Jänner bis 31. Dezember). Informationsblatt ÖPUL 2023 Heuwirtschaft Seite 1 von 5 www.eama.at | www.ama.at 3.2 MAßNAHMENKOMBINATION Es muss zeitgleich entweder an der Maßnahme „Umweltgerechte und biodiversitäts- fördernde Bewirtschaftung” oder „Biologische Wirtschaftsweise” bzw. „Biologische Wirtschaftsweise – Teilbetrieb” teilgenommen werden (Kombinationsverpflichtung).\n",
      "\n",
      "# LLM example\n",
      "Header Path: Umweltgerechte und biodiversitätsfördernde Bewirtschaftung/ALLGEMEINE FÖRDERBEDINGUNGEN\n",
      "\n",
      "5.1 ERHALTUNG DES GRÜNLANDAUSMAßES Das Grünlandflächenausmaß muss im Vertragszeitraum erhalten werden. Als Referenzfläche gilt die Grünlandfläche im 1. Jahr der Verpflichtung plus das im Jahr zuvor umgebrochene Flächenausmaß. Es darf maximal 1,00 ha in Acker-, Dauer- Informationsblatt ÖPUL 2023 Umweltgerechte und biodiversitätsfördernde Bewirtschaftung Seite 3 von 38 www.eama.at | www.ama.at /Spezialkulturen, Weinflächen oder geschützten Anbau während des mehrjährigen Vertragszeitraumes umgewandelt werden. Grünlandneuanlagen werden berücksichtigt und können eine verbrauchte Toleranz wieder auffüllen. Die Grünlandumbruchstoleranz von 1,00 ha gilt für alle Betriebe, unabhängig vom Grünlandanteil des Betriebes. Zug um Zug durchgeführte, innerbetriebliche Flächentäusche werden berücksichtigt, sofern sie im gleichen Mehrfachantrag aufscheinen. Ein überbetrieblicher Flächentausch ist jedoch nicht anrechenbar! Beispiel: Bei Vertragsbeginn 2023 wird als Ausgangsbasis die Grünlandfläche des Mehrfachantrages 2023 herangezogen. Wird eine im Mehrfachantrag-Flächen 2022 beantragte Grünlandfläche im Mehrfachantrag 2023 als Ackerkultur beantragt, zählt das bereits als Grünlandumbruch und bedeutet ein Verbrauch der Toleranz. Wurde die Grünlandfläche jedoch bereits im Jahr 2022 – also vor Verpflichtungsbeginn für ÖPUL 2023 – umgebrochen, muss das im Einzelfall auf www.eama.at im Reiter „Eingaben“ durch eine einzelbetriebliche Meldung nachgewiesen werden. Im Falle einer positiven Bestätigung durch die AMA wird der Umbruch dem Jahr 2022 zugeordnet und die Toleranz im Jahr 2023 für diese Fläche nicht belastet.\n"
     ]
    }
   ],
   "source": [
    "# Hide the File Name from the LLM\n",
    "for doc in documents:\n",
    "    doc.excluded_llm_metadata_keys = [\"File Name\", \"Content Type\"]\n",
    "    doc.excluded_embed_metadata_keys = [\"File Name\", \"Content Type\"]\n",
    "\n",
    "\n",
    "\n",
    "print(\"# Embed example\")\n",
    "print(random.sample(documents, 100)[0].get_content(\n",
    "    metadata_mode=MetadataMode.EMBED))\n",
    "\n",
    "print(\"\\n# LLM example\")\n",
    "print(random.sample(documents, 100)[0].get_content(\n",
    "    metadata_mode=MetadataMode.LLM))"
   ]
  },
  {
   "cell_type": "markdown",
   "metadata": {},
   "source": [
    "### Further splitting into Chunks\n",
    "So far the documents have been splitted logically in hierarchies but we want them splitted in chunks this will be done with the Llama index SimpleNodeParser Object. The chunk_size and chunk overlap can be seen as tuning parameters."
   ]
  },
  {
   "cell_type": "code",
   "execution_count": 131,
   "metadata": {},
   "outputs": [],
   "source": [
    "node_parser = SimpleNodeParser.from_defaults(\n",
    "    text_splitter=TokenTextSplitter(chunk_size=700, chunk_overlap=20)\n",
    ")"
   ]
  },
  {
   "cell_type": "markdown",
   "metadata": {},
   "source": [
    "### Defining the embedding model\n",
    "\n",
    "For testing i will use free Embeddings for document retrieval which will later be switched to OpenAI Embeddings."
   ]
  },
  {
   "cell_type": "code",
   "execution_count": 132,
   "metadata": {},
   "outputs": [],
   "source": [
    "# embed_model = OpenAIEmbedding()\n",
    "embed_model = LangchainEmbedding(\n",
    "    HuggingFaceEmbeddings(model_name=\"intfloat/multilingual-e5-base\"))"
   ]
  },
  {
   "cell_type": "markdown",
   "metadata": {},
   "source": [
    "## LLM Pipeline \n",
    "\n",
    "Similar to the embeddings for testing a local LLM will be used.\n",
    "\n",
    "### LLM definition"
   ]
  },
  {
   "cell_type": "code",
   "execution_count": 133,
   "metadata": {},
   "outputs": [],
   "source": [
    "llm = OpenAI(model='text-davinci-003', temperature=0, max_tokens=512)\n",
    "# from langchain.llms import LlamaCpp\n",
    "# from langchain.callbacks.manager import CallbackManager\n",
    "# from langchain.callbacks.streaming_stdout import StreamingStdOutCallbackHandler\n",
    "\n",
    "# # Callbacks support token-wise streaming\n",
    "# callback_manager = CallbackManager([StreamingStdOutCallbackHandler()])\n",
    "\n",
    "# llm = LangChainLLM(llm=LlamaCpp(\n",
    "#     model_path=\"/Users/vali/repos/models/openorca-platypus2-13b.ggmlv3.q4_0.bin\",\n",
    "#     temperature=0.75,\n",
    "#     max_tokens=2000,\n",
    "#     top_p=1,\n",
    "#     callback_manager=callback_manager,\n",
    "#     verbose=True,  # Verbose is required to pass to the callback manager\n",
    "# ))\n",
    "\n",
    "# from llama_index.llms import LlamaCPP\n",
    "\n",
    "# model_url = \"https://huggingface.co/TheBloke/Llama-2-13B-chat-GGUF/resolve/main/llama-2-13b-chat.Q4_0.gguf\"\n",
    "\n",
    "# llm = LlamaCPP(\n",
    "#     # You can pass in the URL to a GGML model to download it automatically\n",
    "#     model_url=model_url,\n",
    "#     # optionally, you can set the path to a pre-downloaded model instead of model_url\n",
    "#     model_path=None,\n",
    "#     temperature=0.1,\n",
    "#     max_new_tokens=256,\n",
    "#     # llama2 has a context window of 4096 tokens, but we set it lower to allow for some wiggle room\n",
    "#     context_window=3900,\n",
    "#     # kwargs to pass to __call__()\n",
    "#     generate_kwargs={},\n",
    "#     # kwargs to pass to __init__()\n",
    "#     # set to at least 1 to use GPU\n",
    "#     model_kwargs={\"n_gpu_layers\": 1},\n",
    "#     verbose=True,\n",
    "# )\n"
   ]
  },
  {
   "cell_type": "markdown",
   "metadata": {},
   "source": [
    "### Prompt and Pipeline"
   ]
  },
  {
   "cell_type": "code",
   "execution_count": 134,
   "metadata": {},
   "outputs": [],
   "source": [
    "prompt_helper = PromptHelper(\n",
    "    context_window=4096,\n",
    "    num_output=256,\n",
    "    chunk_overlap_ratio=0.1,\n",
    "    chunk_size_limit=None\n",
    ")\n",
    "\n",
    "service_context = ServiceContext.from_defaults(\n",
    "    llm=llm,\n",
    "    embed_model=embed_model,\n",
    "    node_parser=node_parser,\n",
    "    prompt_helper=prompt_helper,\n",
    ")"
   ]
  },
  {
   "cell_type": "code",
   "execution_count": 135,
   "metadata": {},
   "outputs": [],
   "source": [
    "nodes = node_parser.get_nodes_from_documents(documents)"
   ]
  },
  {
   "cell_type": "code",
   "execution_count": 136,
   "metadata": {},
   "outputs": [],
   "source": [
    "qa_prompt = PromptTemplate(\n",
    "    \"Du bist ein Supportsystem für Landwirte in Österreich und bekommst Informationen zum Österreichischen Programm für umweltgerechte Landwirtschaft kurz OEPUL.\\n\"\n",
    "    \"Anhand dieser Informationen sollst du Landirten helfen Entscheidungen zu treffen so dass sie Förderungen aus dem ÖPUL Programm bekommen.\\n\"\n",
    "    \"Hier die Informationen zu den ÖPUL Förderungen:\\n\"\n",
    "    \"---------------------\\n\"\n",
    "    \"{context_str}\\n\"\n",
    "    \"---------------------\\n\"\n",
    "    \"Angesichts der Kontextinformationen und ohne Vorwissen beantworte die Frage:\\n\"\n",
    "    \"Frage: {query_str}\\n\"\n",
    "    \"Antwort: \"\n",
    ")\n",
    "\n",
    "# initialize storage context (by default it's in-memory)\n",
    "storage_context = StorageContext.from_defaults()\n",
    "storage_context.docstore.add_documents(nodes)\n",
    "\n",
    "# define custom retriever\n",
    "index = VectorStoreIndex(nodes, storage_context=storage_context, service_context=service_context)\n",
    "\n",
    "query_engine = index.as_query_engine(\n",
    "    summary_template=qa_prompt, similarity_top_k=8)\n"
   ]
  },
  {
   "cell_type": "code",
   "execution_count": 141,
   "metadata": {},
   "outputs": [],
   "source": [
    "query_engine = index.as_chat_engine(\n",
    "    summary_template=qa_prompt, similarity_top_k=8)"
   ]
  },
  {
   "cell_type": "code",
   "execution_count": null,
   "metadata": {},
   "outputs": [],
   "source": [
    "resp = query_engine.query(\"Gibt es Pramien die den Tieren zu gute kommen?\")\n",
    "view_response(resp)"
   ]
  },
  {
   "cell_type": "code",
   "execution_count": 142,
   "metadata": {},
   "outputs": [],
   "source": [
    "chat_engine = index.as_chat_engine(summary_template=qa_prompt, similarity_top_k=6)\n",
    "resp = chat_engine.chat(\"Gibt es Pramien die den Tieren zu gute kommen?\")"
   ]
  },
  {
   "cell_type": "code",
   "execution_count": 143,
   "metadata": {},
   "outputs": [
    {
     "data": {
      "text/html": [
       "<div style=\"font-size: 14px;line-height: 1.5;\"><strong>Antwort</strong>:<br>Ja, es gibt Prämien, die den Tieren zu Gute kommen. Beispielsweise wird für die Erhaltung gefährdeter Nutztierrassen eine Prämie gewährt, die je Tier gewährt wird. Für die Tierwohl-Schweinehaltung wird eine Prämie für die Stallhaltung von Ferkeln, Jung- und Mastschweinen oder von Zuchtsauen und gedeckten Jungsauen in Gruppen auf eingestreuten Liegeflächen mit erhöhtem Platzangebot sowie für die Freilandhaltung von Schweinen gewährt. Für die Tierwohl-Behirtung wird eine Prämie von 75 Euro/RGVE für die ersten 20 behirtete Tiere gewährt.<br><br><strong>Quellen:</strong><br><ul></ul></div>"
      ],
      "text/plain": [
       "<IPython.core.display.HTML object>"
      ]
     },
     "metadata": {},
     "output_type": "display_data"
    }
   ],
   "source": [
    "view_response(resp)"
   ]
  },
  {
   "cell_type": "code",
   "execution_count": null,
   "metadata": {},
   "outputs": [],
   "source": []
  },
  {
   "cell_type": "markdown",
   "metadata": {},
   "source": [
    "## Try out the pipeline"
   ]
  },
  {
   "cell_type": "code",
   "execution_count": 38,
   "metadata": {},
   "outputs": [
    {
     "data": {
      "text/html": [
       "<div style=\"font-size: 14px;line-height: 1.5;\"><strong>Antwort</strong>:<br> Die Prämie Tierwohl Weide umfasst Kosten und Einkommensverluste, die durch höhere Arbeitszeitbedarfe für Weidemanagement und Tierbetreuung entstehen. Optional erfolgt ein Zuschlag für Herdenschutzhunde.<br><br><strong>Quellen:</strong><br><ul><li><strong>O6_15_Tierwohl-Behirtung_2023_04.pdf</strong><br><strong>Header Path</strong>: Tierwohl – Behirtung/ÜBERSICHT<br><strong>Score</strong>: 0.8712650648965364<br><strong>Text</strong>: <i>Die Prämie wird für die Behirtung von Raufutterverzehrern auf Almweideflächen gewährt. Optional erfolgt ein Zuschlag für Herdenschutzhunde. Gefördert werden Kosten und Einkommensverluste, die insbesondere durch höhere Arbeitszeitbedarfe für Weidemanagement und Tierbetreuung entstehen. Die Maßnahme ist vom Almbetrieb zu beantragen und die Prämie wird an diesen gewährt.</i><br><br></li><li><strong>O6_14_Almbewirtschaftung_2023_04.pdf</strong><br><strong>Header Path</strong>: Almbewirtschaftung/ÜBERSICHT<br><strong>Score</strong>: 0.8575452496512244<br><strong>Text</strong>: <i>Die Prämie wird für Almweideflächen gewährt, die mit Tieren bestoßen werden. Gefördert werden Kosten und Einkommensverluste, die durch die Einhaltung der Verpflichtungen, insbesondere durch den höheren Arbeitszeitbedarf für Weidepflege und den Verzicht auf Mineraldünger sowie chemischen Pflanzenschutz entstehen. Optional erfolgt ein Prämienzuschlag für naturschutzfachlich begründete Auflagen. Die Maßnahme ist von der Almbewirtschafterin oder dem Almbewirtschafter zu beantragen.</i><br><br></li></ul></div>"
      ],
      "text/plain": [
       "<IPython.core.display.HTML object>"
      ]
     },
     "metadata": {},
     "output_type": "display_data"
    }
   ],
   "source": [
    "\n",
    "query_engine = index.as_query_engine(service_context=service_context)\n",
    "\n",
    "query1 = \"Welche Begrünungskulturen sind gültig?\"\n",
    "query2 = \"Welche Maßnahme trägt zur Verringerung der Treibhausgasemission bei?\"\n",
    "query3 = \"Gibt es Pramien die den Tieren zu gute kommen?\"\n",
    "query4 = \"Ich habe letztes Jahr Weizen angebaut\"\n",
    "\n",
    "response = query_engine.query(query3)\n",
    "\n",
    "view_response(response)"
   ]
  }
 ],
 "metadata": {
  "kernelspec": {
   "display_name": "oepul-chat-m",
   "language": "python",
   "name": "python3"
  },
  "language_info": {
   "codemirror_mode": {
    "name": "ipython",
    "version": 3
   },
   "file_extension": ".py",
   "mimetype": "text/x-python",
   "name": "python",
   "nbconvert_exporter": "python",
   "pygments_lexer": "ipython3",
   "version": "3.9.18"
  }
 },
 "nbformat": 4,
 "nbformat_minor": 2
}
