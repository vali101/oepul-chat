{
 "cells": [
  {
   "cell_type": "markdown",
   "metadata": {},
   "source": [
    "### Imports"
   ]
  },
  {
   "cell_type": "code",
   "execution_count": 28,
   "metadata": {},
   "outputs": [
    {
     "name": "stdout",
     "output_type": "stream",
     "text": [
      "The autoreload extension is already loaded. To reload it, use:\n",
      "  %reload_ext autoreload\n"
     ]
    }
   ],
   "source": [
    "# Import packages\n",
    "from llama_index import VectorStoreIndex\n",
    "from llama_index import SimpleDirectoryReader\n",
    "import logging\n",
    "import sys\n",
    "from llama_index import ServiceContext, LLMPredictor, OpenAIEmbedding, PromptHelper\n",
    "from llama_index.llms import OpenAI\n",
    "from llama_index.text_splitter import TokenTextSplitter\n",
    "from llama_index.node_parser import SimpleNodeParser\n",
    "from oepul_chat.readers.custom_pdf_reader import CustomPDFReader\n",
    "from oepul_chat.readers.custom_html_reader import CustomHTMLReader\n",
    "from llama_index import SimpleDirectoryReader\n",
    "import random\n",
    "from llama_index.schema import MetadataMode\n",
    "from langchain.embeddings.huggingface import HuggingFaceEmbeddings\n",
    "from llama_index import LangchainEmbedding, ServiceContext\n",
    "from llama_index.llms import LangChainLLM\n",
    "from llama_index import download_loader\n",
    "\n",
    "PDFReader = download_loader(\"PDFReader\")\n",
    "\n",
    "\n",
    "# Import local library\n",
    "import os\n",
    "import sys\n",
    "sys.path.append(os.path.join(os.getcwd(), '..'))\n",
    "\n",
    "# Autoreload local library\n",
    "%load_ext autoreload\n",
    "%autoreload 2\n"
   ]
  },
  {
   "cell_type": "markdown",
   "metadata": {},
   "source": [
    "### Logging setup"
   ]
  },
  {
   "cell_type": "code",
   "execution_count": 3,
   "metadata": {},
   "outputs": [],
   "source": [
    "logging.basicConfig(stream=sys.stdout, level=logging.INFO)\n",
    "logging.getLogger().addHandler(logging.StreamHandler(stream=sys.stdout))"
   ]
  },
  {
   "cell_type": "markdown",
   "metadata": {},
   "source": [
    "## Data\n",
    "\n",
    "\n",
    "### Data preprocessing, structure extraction\n",
    "I built a CustomPDFReader which can be found in `oepul_chat/custom_pdf_reader.py` it extracts the structure out of the PDF and embeds it in the metadata field `header_path` i think this is one od the first crucial steps as it gives each text element a context in all of the files. With llama index we can then give this fiel to the retriever or the LLM or both. "
   ]
  },
  {
   "cell_type": "code",
   "execution_count": 31,
   "metadata": {},
   "outputs": [
    {
     "name": "stdout",
     "output_type": "stream",
     "text": [
      "Loaded 1104 documents\n",
      "First document metadata: {'File Name': 'O6_10_Erosionsschutz_Wein_Obst_Hopfen_2022_12.pdf', 'Content Type': 'text', 'Header Path': 'Erosionsschutz Wein, Obst und Hopfen/K-Ö'}\n",
      "First document text: \n"
     ]
    }
   ],
   "source": [
    "def load_data(filepath, filetype, reader):\n",
    "    \"\"\"Load markdown docs from a directory, excluding all other file types.\"\"\"\n",
    "    loader = SimpleDirectoryReader(\n",
    "        input_dir=filepath,\n",
    "        file_extractor={filetype: reader},\n",
    "        recursive=True\n",
    "    )\n",
    "\n",
    "    data = loader.load_data()\n",
    "\n",
    "    # print short summary\n",
    "    print(\"Loaded {} documents\".format(len(data)))\n",
    "    print(\"First document metadata: {}\".format(data[0].metadata))\n",
    "    print(\"First document text: {}\".format(data[0].text[0:80]))\n",
    "\n",
    "    return data\n",
    "\n",
    "# for testing only one doc \n",
    "oepul_official_docs = load_data(\"data/OEPUL_PDF/\", \".pdf\", CustomPDFReader())"
   ]
  },
  {
   "cell_type": "code",
   "execution_count": 32,
   "metadata": {},
   "outputs": [
    {
     "name": "stdout",
     "output_type": "stream",
     "text": [
      "Loaded 38 documents\n",
      "First document metadata: {'File Name': 'aktueller-planungsstand-zu-bio-im-oepul-2023.html', 'Content Type': 'text', 'Header Path': 'Bio-Maßnahme/Bio-Basisprämie:/Auflagen Bio-Basisprämie:/Anlage von Biodiversitäts-Flächen/Vier Möglichkeiten im Grünland:/Einzuhalten bei Biodiversitäts-Flächen am Acker:/Optionale Module (einjährig):/Acker/Grünland:/N2000/WRRL(Wasserrahmenrichtlinie):/Beitrag teilen/Bio-Maßnahme/Bio-Basisprämie:/Auflagen Bio-Basisprämie:/Anlage von Biodiversitäts-Flächen/Vier Möglichkeiten im Grünland:/Einzuhalten bei Biodiversitäts-Flächen am Acker:/Optionale Module (einjährig):/Acker/Grünland:/N2000/WRRL(Wasserrahmenrichtlinie):/Beitrag teilen/Bio-Maßnahme/Bio-Basisprämie:/Auflagen Bio-Basisprämie:/Anlage von Biodiversitäts-Flächen/Vier Möglichkeiten im Grünland:/Einzuhalten bei Biodiversitäts-Flächen am Acker:/Optionale Module (einjährig):/Acker/Grünland:/N2000/WRRL(Wasserrahmenrichtlinie):/Beitrag teilen/Bio-Maßnahme/Bio-Basisprämie:/Auflagen Bio-Basisprämie:/Anlage von Biodiversitäts-Flächen/Vier Möglichkeiten im Grünland:/Einzuhalten bei Biodiversitäts-Flächen am Acker:/Optionale Module (einjährig):/Acker/Grünland:/N2000/WRRL(Wasserrahmenrichtlinie):/Beitrag teilen', 'tag': 'p'}\n",
      "First document text: Stand 21.10.2022\n"
     ]
    }
   ],
   "source": [
    "bio_austria_guide = load_data(\"data/BIO_AUSTRIA\", \".html\", CustomHTMLReader())"
   ]
  },
  {
   "cell_type": "code",
   "execution_count": 33,
   "metadata": {},
   "outputs": [
    {
     "name": "stdout",
     "output_type": "stream",
     "text": [
      "Loaded 148 documents\n",
      "First document metadata: {'page_label': '1', 'file_name': '20230131_Merkblatt_MFA2023_V3.pdf'}\n",
      "First document text:  \n",
      " \n",
      "MERKBLATT  \n",
      " \n",
      "Mehrfachantrag 2023  \n",
      "STAND 31. Jänner 2023   \n",
      "(Version 3) \n",
      " \n",
      " \n",
      " \n",
      " \n",
      " \n",
      " \n",
      " \n",
      "Zertifiziertes Qualitätsmanagement -System nach \n"
     ]
    }
   ],
   "source": [
    "# Load rest of docs with simple pdf reader\n",
    "ama_official_docs = load_data(\"data/AMA\", \".pdf\", PDFReader())"
   ]
  },
  {
   "cell_type": "code",
   "execution_count": 35,
   "metadata": {},
   "outputs": [
    {
     "name": "stdout",
     "output_type": "stream",
     "text": [
      "File Name: O6_11_Herbizidverzicht_Wein_Obst_Hopfen_2022_12.pdf\n",
      "Content Type: text\n",
      "Header Path: Herbizidverzicht Wein, Obst und Hopfen/BEANTRAGUNG\n",
      "\n",
      "Folgende Punkte sind bei der Beantragung zu beachten: • Die Maßnahme „Herbizidverzicht Wein, Obst und Hopfen“ muss vor Verpflichtungsbeginn im Maßnahmenantrag des Mehrfachantrages bis spätestens am 31. Dezember beantragt werden, um eine gültige Verpflichtung ab dem Folgejahr am Betrieb zu begründen. • Der letzte Einstieg in die Maßnahme ist mit dem Förderjahr 2025 möglich (Beantragung bis spätestens am 31. Dezember 2024). • Während der Laufzeit der Maßnahme kann bis spätestens am 31. Dezember 2025 in die Maßnahme „Biologische Wirtschaftsweise“ umgestiegen werden. • Die Prämie für Obst wird nur für Anlagen mit qualitativ hochwertigem Pflanzgut gewährt. Daher ist grundsätzlich nur veredeltes Material zulässig. Dies gilt sowohl für Neuanlagen als auch für Altanlagen. Beispielsweise müssen unveredelte Walnussbäume (kein qualitativ hochwertiges Pflanzgut) als „Walnüsse“ mit dem Code OP beantragt werden und erhalten keine ÖPUL-Prämien.\n"
     ]
    }
   ],
   "source": [
    "# Show some example\n",
    "print(random.sample(oepul_official_docs, 1)[0].get_content(\n",
    "    metadata_mode=MetadataMode.ALL))"
   ]
  },
  {
   "cell_type": "markdown",
   "metadata": {},
   "source": [
    "Llama index support different content outputs per Document or Node depending on if the retriever or the LLM is accessing the document. For now we will exlude the file name as its mostly duplicate information."
   ]
  },
  {
   "cell_type": "code",
   "execution_count": 37,
   "metadata": {},
   "outputs": [
    {
     "name": "stdout",
     "output_type": "stream",
     "text": [
      "# Embed example\n",
      "File Name: O6_11_Herbizidverzicht_Wein_Obst_Hopfen_2022_12.pdf\n",
      "Content Type: text\n",
      "Header Path: Herbizidverzicht Wein, Obst und Hopfen/BEANTRAGUNG\n",
      "\n",
      "Folgende Punkte sind bei der Beantragung zu beachten: • Die Maßnahme „Herbizidverzicht Wein, Obst und Hopfen“ muss vor Verpflichtungsbeginn im Maßnahmenantrag des Mehrfachantrages bis spätestens am 31. Dezember beantragt werden, um eine gültige Verpflichtung ab dem Folgejahr am Betrieb zu begründen. • Der letzte Einstieg in die Maßnahme ist mit dem Förderjahr 2025 möglich (Beantragung bis spätestens am 31. Dezember 2024). • Während der Laufzeit der Maßnahme kann bis spätestens am 31. Dezember 2025 in die Maßnahme „Biologische Wirtschaftsweise“ umgestiegen werden. • Die Prämie für Obst wird nur für Anlagen mit qualitativ hochwertigem Pflanzgut gewährt. Daher ist grundsätzlich nur veredeltes Material zulässig. Dies gilt sowohl für Neuanlagen als auch für Altanlagen. Beispielsweise müssen unveredelte Walnussbäume (kein qualitativ hochwertiges Pflanzgut) als „Walnüsse“ mit dem Code OP beantragt werden und erhalten keine ÖPUL-Prämien.\n",
      "\n",
      "# LLM example\n",
      "Content Type: text\n",
      "Header Path: Bodennahe Ausbringung flüssiger Wirtschaftsdünger und/AKTUALISIERUNGEN\n",
      "\n",
      "Änderungen zur vorhergehenden Version mit Stand Dezember 2022 • Kapitel 6: Frist für separierte Güllemenge IMPRESSUM: Informationsblatt „ÖPUL 2023 – Bodennahe Ausbringung flüssiger Wirtschaftsdünger und Gülleseparation“ der Agrarmarkt Austria (AMA) Medieninhaber, Herausgeber, Vertrieb, Redaktion: Agrarmarkt Austria, Dresdner Straße 70, 1200 Wien, Telefon: +43 50 3151 - 0, Telefax: +43 50 3151-295, E-Mail: oepul@ama.gv.at Dieses Informationsblatt enthält rechtlich unverbindliche Aussagen. Im Sinne des Gleichheitsgrundsatzes haben die Ausführungen in gleicher Weise für alle Geschlechter Geltung. Informationsblatt ÖPUL 2023 Bodennahe Ausbringung flüssiger Wirtschaftsdünger und Gülleseparation Seite 6 von 6 www.eama.at | www.ama.at\n"
     ]
    }
   ],
   "source": [
    "# Hide the File Name from the LLM\n",
    "for doc in oepul_official_docs:\n",
    "    doc.excluded_llm_metadata_keys = [\"File Name\"]\n",
    "    # doc.excluded_embed_metadata_keys = [\"File Name\"]\n",
    "\n",
    "\n",
    "print(\"# Embed example\")\n",
    "print(random.sample(oepul_official_docs, 1)[0].get_content(\n",
    "    metadata_mode=MetadataMode.EMBED))\n",
    "\n",
    "print(\"\\n# LLM example\")\n",
    "print(random.sample(oepul_official_docs, 1)[0].get_content(\n",
    "    metadata_mode=MetadataMode.LLM))"
   ]
  },
  {
   "cell_type": "markdown",
   "metadata": {},
   "source": [
    "### Further splitting into Chunks\n",
    "So far the documents have been splitted logically in hierarchies but we want them splitted in chunks this will be done with the Llama index SimpleNodeParser Object. The chunk_size and chunk overlap can be seen as tuning parameters."
   ]
  },
  {
   "cell_type": "code",
   "execution_count": 6,
   "metadata": {},
   "outputs": [],
   "source": [
    "node_parser = SimpleNodeParser.from_defaults(\n",
    "    text_splitter=TokenTextSplitter(chunk_size=1024, chunk_overlap=20)\n",
    ")"
   ]
  },
  {
   "cell_type": "markdown",
   "metadata": {},
   "source": [
    "### Defining the embedding model\n",
    "\n",
    "For testing i will use free Embeddings for document retrieval which will later be switched to OpenAI Embeddings."
   ]
  },
  {
   "cell_type": "code",
   "execution_count": 7,
   "metadata": {},
   "outputs": [
    {
     "name": "stderr",
     "output_type": "stream",
     "text": [
      "/Users/vali/anaconda3/envs/oepul-chat-m/lib/python3.9/site-packages/tqdm/auto.py:21: TqdmWarning: IProgress not found. Please update jupyter and ipywidgets. See https://ipywidgets.readthedocs.io/en/stable/user_install.html\n",
      "  from .autonotebook import tqdm as notebook_tqdm\n"
     ]
    },
    {
     "name": "stdout",
     "output_type": "stream",
     "text": [
      "INFO:sentence_transformers.SentenceTransformer:Load pretrained SentenceTransformer: intfloat/multilingual-e5-base\n",
      "Load pretrained SentenceTransformer: intfloat/multilingual-e5-base\n",
      "INFO:sentence_transformers.SentenceTransformer:Use pytorch device: cpu\n",
      "Use pytorch device: cpu\n"
     ]
    }
   ],
   "source": [
    "# embed_model = OpenAIEmbedding()\n",
    "embed_model = LangchainEmbedding(\n",
    "    HuggingFaceEmbeddings(model_name=\"intfloat/multilingual-e5-base\"))"
   ]
  },
  {
   "cell_type": "markdown",
   "metadata": {},
   "source": [
    "## LLM Pipeline \n",
    "\n",
    "Similar to the embeddings for testing a local LLM will be used.\n",
    "\n",
    "### LLM definition"
   ]
  },
  {
   "cell_type": "code",
   "execution_count": 8,
   "metadata": {},
   "outputs": [],
   "source": [
    "llm = OpenAI(model='text-davinci-003', temperature=0, max_tokens=256)\n",
    "# from langchain.llms import LlamaCpp\n",
    "# from langchain.callbacks.manager import CallbackManager\n",
    "# from langchain.callbacks.streaming_stdout import StreamingStdOutCallbackHandler\n",
    "\n",
    "# # Callbacks support token-wise streaming\n",
    "# callback_manager = CallbackManager([StreamingStdOutCallbackHandler()])\n",
    "\n",
    "# llm = LangChainLLM(llm=LlamaCpp(\n",
    "#     model_path=\"/Users/vali/repos/models/openorca-platypus2-13b.ggmlv3.q4_0.bin\",\n",
    "#     temperature=0.75,\n",
    "#     max_tokens=2000,\n",
    "#     top_p=1,\n",
    "#     callback_manager=callback_manager,\n",
    "#     verbose=True,  # Verbose is required to pass to the callback manager\n",
    "# ))\n",
    "\n",
    "# from llama_index.llms import LlamaCPP\n",
    "\n",
    "# model_url = \"https://huggingface.co/TheBloke/Llama-2-13B-chat-GGUF/resolve/main/llama-2-13b-chat.Q4_0.gguf\"\n",
    "\n",
    "# llm = LlamaCPP(\n",
    "#     # You can pass in the URL to a GGML model to download it automatically\n",
    "#     model_url=model_url,\n",
    "#     # optionally, you can set the path to a pre-downloaded model instead of model_url\n",
    "#     model_path=None,\n",
    "#     temperature=0.1,\n",
    "#     max_new_tokens=256,\n",
    "#     # llama2 has a context window of 4096 tokens, but we set it lower to allow for some wiggle room\n",
    "#     context_window=3900,\n",
    "#     # kwargs to pass to __call__()\n",
    "#     generate_kwargs={},\n",
    "#     # kwargs to pass to __init__()\n",
    "#     # set to at least 1 to use GPU\n",
    "#     model_kwargs={\"n_gpu_layers\": 1},\n",
    "#     verbose=True,\n",
    "# )\n"
   ]
  },
  {
   "cell_type": "markdown",
   "metadata": {},
   "source": [
    "### Prompt and Pipeline"
   ]
  },
  {
   "cell_type": "code",
   "execution_count": 9,
   "metadata": {},
   "outputs": [],
   "source": [
    "prompt_helper = PromptHelper(\n",
    "    context_window=4096,\n",
    "    num_output=256,\n",
    "    chunk_overlap_ratio=0.1,\n",
    "    chunk_size_limit=None\n",
    ")\n",
    "\n",
    "service_context = ServiceContext.from_defaults(\n",
    "    llm=llm,\n",
    "    embed_model=embed_model,\n",
    "    node_parser=node_parser,\n",
    "    prompt_helper=prompt_helper\n",
    ")"
   ]
  },
  {
   "cell_type": "markdown",
   "metadata": {},
   "source": [
    "## Try out the pipeline"
   ]
  },
  {
   "cell_type": "code",
   "execution_count": 11,
   "metadata": {},
   "outputs": [
    {
     "data": {
      "text/plain": [
       "Response(response='\\nIm Rahmen des Grundwasserschutzprogramms Graz bis Bad Radkersburg werden spezifische Maßnahmen ergriffen, um sicherzustellen, dass die Bodennutzung eine geringfügige Auswirkung auf das Grundwasser hat. Dazu gehört, dass die maximal zulässigen jahreswirksamen Stickstoffdüngermengen pro Hektar und Jahr für die jeweilige Düngeklasse gemäß Anlage 3, Punkt 1 und 2 des Grundwasserschutzprogramms Graz bis Bad Radkersburg in Verbindung mit der Düngeklasseneinstufung in Anlage 2B derselben Verordnung eingehalten werden müssen. Um die Landwirte bei der Einhaltung dieser Vorgaben zu unterstützen, werden im Layer des Landes Steiermark, der im INVEKOS GIS einsehbar ist, die D', source_nodes=[NodeWithScore(node=TextNode(id_='95adad2d-ef36-42e2-a05c-a85d395a5f97', embedding=None, metadata={'File Name': 'O6_24_Wasserrahmenrichtlinie-Landwirtschaft_2022_12.pdf', 'Content Type': 'text', 'Header Path': 'Wasserrahmenrichtlinie – Landwirtschaft/FÖRDERBEDINGUNGEN/STICKSTOFF-DÜNGUNG'}, excluded_embed_metadata_keys=['File Name'], excluded_llm_metadata_keys=['File Name'], relationships={<NodeRelationship.SOURCE: '1'>: RelatedNodeInfo(node_id='a58d74eb-7c58-48ed-9b32-7c21f002913a', node_type=None, metadata={'File Name': 'O6_24_Wasserrahmenrichtlinie-Landwirtschaft_2022_12.pdf', 'Content Type': 'text', 'Header Path': 'Wasserrahmenrichtlinie – Landwirtschaft/FÖRDERBEDINGUNGEN/STICKSTOFF-DÜNGUNG'}, hash='c2c64526d4db1021b0aa17f8845c6707c321f6234be6b5fdd9f72415b85dbe69')}, hash='c2c64526d4db1021b0aa17f8845c6707c321f6234be6b5fdd9f72415b85dbe69', text='Die Bodennutzung darf nur eine geringfügige Einwirkung auf das Grundwasser auf Ackerflächen haben. Dies ist in § 4 des Grundwasserschutzprogramms Graz bis Bad Radkersburg geregelt. Die maximal zulässigen jahreswirksamen Stickstoffdüngermengen pro Hektar und Jahr für die jeweilige Düngeklasse gemäß Anlage 3, Punkt 1 und 2 des Grundwasserschutzprogramms Graz bis Bad Radkersburg in Verbindung mit der Düngeklasseneinstufung in Anlage 2B derselben Verordnung sind einzuhalten. Nicht zugeordnete Flächen im Gebiet sind mit der Düngeklasse C einzustufen. Im Layer des Landes Steiermark, der im INVEKOS GIS einsehbar ist, werden die Düngeklassen angezeigt. Sind einem Schlag mehrere Düngeklassen zugeordnet, ist die ‐ Düngung nach dem gewichteten Mittel der angeführten Düngeobergrenzen vorzunehmen. Beispiel: Bei einem Schlag mit 1,00 ha Winterweichweizen, davon 0,70 ha „D“ (144 kg) bzw. 0,30 ha „B“ (108 kg), kann die Düngehöchstgrenze mit 133 kg (144 x 0,70 + 108 x 0,30) festgelegt werden. Werden jedoch Teilflächen entsprechend einer zulässigen höheren Düngeklasseneinstufung gedüngt, so sind diese Teilflächen separat als eigener Schlag zu beantragen und es sind separate Aufzeichnungen für die jeweiligen Teilschläge zu führen. Im konkreten Beispiel hieße das, dass dann 0,70 ha nach der Düngeklasse „D“ und 0,30 ha nach der Düngeklasse „B“ gedüngt werden können. Die zulässigen Zeiträume für die Ausbringung stickstoffhaltiger Düngemittel sind gemäß Anlage 3, Punkt 3 des Grundwasserschutzprogramms Graz bis Bad Radkersburg einzuhalten.', start_char_idx=None, end_char_idx=None, text_template='{metadata_str}\\n\\n{content}', metadata_template='{key}: {value}', metadata_seperator='\\n'), score=0.9144836178366815), NodeWithScore(node=TextNode(id_='1ecfd774-66c6-443a-af9b-e2bb3c181e12', embedding=None, metadata={'File Name': 'O6_24_Wasserrahmenrichtlinie-Landwirtschaft_2022_12.pdf', 'Content Type': 'text', 'Header Path': 'Wasserrahmenrichtlinie – Landwirtschaft/TEILNAHMEVORAUSSETZUNGEN/MINDESTTEILNAHMEFLÄCHE'}, excluded_embed_metadata_keys=['File Name'], excluded_llm_metadata_keys=['File Name'], relationships={<NodeRelationship.SOURCE: '1'>: RelatedNodeInfo(node_id='4c561019-5a56-47be-b619-da33a5287190', node_type=None, metadata={'File Name': 'O6_24_Wasserrahmenrichtlinie-Landwirtschaft_2022_12.pdf', 'Content Type': 'text', 'Header Path': 'Wasserrahmenrichtlinie – Landwirtschaft/TEILNAHMEVORAUSSETZUNGEN/MINDESTTEILNAHMEFLÄCHE'}, hash='6edc42c92016fe289e2679259ea249219673cc9e68d036f7bc3a2f4a31d84bc1')}, hash='6edc42c92016fe289e2679259ea249219673cc9e68d036f7bc3a2f4a31d84bc1', text='In jedem Teilnahmejahr müssen zumindest 2,00 ha Ackerfläche in der Gebietskulisse der Verordnung des Landeshauptmannes von Steiermark „Grundwasserschutzprogramm Graz bis Bad Radkersburg“ (LGBl Nr. 24/2018) i.d.g.F. bewirtschaftet werden. Die Gebietskulisse der Verordnung „Grundwasserschutzprogramm Graz bis Bad Radkersburg“ ist im eAMA im INVEKOS-GIS mittels dem Legendeneintrag „Gebietsabgrenzungen/Wasserrahmenrichtlinie (WRRL)/Gebiet WRRL“ einsehbar. Informationsblatt ÖPUL 2023 Wasserrahmenrichtlinie – Landwirtschaft Seite 1 von 4 www.eama.at | www.ama.at Die Verordnung ist – ebenso wie die Sonderrichtlinie ÖPUL 2023 und deren Anhänge – unter www.ama.at abrufbar.', start_char_idx=None, end_char_idx=None, text_template='{metadata_str}\\n\\n{content}', metadata_template='{key}: {value}', metadata_seperator='\\n'), score=0.8914261403018885)], metadata={'95adad2d-ef36-42e2-a05c-a85d395a5f97': {'File Name': 'O6_24_Wasserrahmenrichtlinie-Landwirtschaft_2022_12.pdf', 'Content Type': 'text', 'Header Path': 'Wasserrahmenrichtlinie – Landwirtschaft/FÖRDERBEDINGUNGEN/STICKSTOFF-DÜNGUNG'}, '1ecfd774-66c6-443a-af9b-e2bb3c181e12': {'File Name': 'O6_24_Wasserrahmenrichtlinie-Landwirtschaft_2022_12.pdf', 'Content Type': 'text', 'Header Path': 'Wasserrahmenrichtlinie – Landwirtschaft/TEILNAHMEVORAUSSETZUNGEN/MINDESTTEILNAHMEFLÄCHE'}})"
      ]
     },
     "execution_count": 11,
     "metadata": {},
     "output_type": "execute_result"
    }
   ],
   "source": [
    "\n",
    "query1 = \"Welche Begrünungskulturen sind gültig?\"\n",
    "query2 = \"Welche Maßnahme trägt zur Verringerung der Treibhausgasemission bei?\"\n",
    "query3 = \"Was umfasst die Prämie Tierwohl Weide?\"\n",
    "query4 = \"Welche spezifischen Maßnahmen werden im Rahmen des Grundwasserschutzprogramms Graz bis Bad Radkersburg ergriffen, um sicherzustellen, dass die Bodennutzung eine geringfügige Auswirkung auf das Grundwasser hat, und wie werden die Landwirte dabei unterstützt, die vorgegebenen jahreswirksamen Stickstoffdüngermengen pro Hektar und Jahr einzuhalten?\"\n",
    "\n",
    "index = VectorStoreIndex.from_documents(documents)\n",
    "query_engine = index.as_query_engine(service_context=service_context)\n",
    "\n",
    "response = query_engine.query(query4)\n",
    "response"
   ]
  },
  {
   "cell_type": "code",
   "execution_count": 13,
   "metadata": {},
   "outputs": [
    {
     "name": "stdout",
     "output_type": "stream",
     "text": [
      "\n",
      "Im Rahmen des Grundwasserschutzprogramms Graz bis Bad Radkersburg werden spezifische Maßnahmen ergriffen, um sicherzustellen, dass die Bodennutzung eine geringfügige Auswirkung auf das Grundwasser hat. Dazu gehört, dass die maximal zulässigen jahreswirksamen Stickstoffdüngermengen pro Hektar und Jahr für die jeweilige Düngeklasse gemäß Anlage 3, Punkt 1 und 2 des Grundwasserschutzprogramms Graz bis Bad Radkersburg in Verbindung mit der Düngeklasseneinstufung in Anlage 2B derselben Verordnung eingehalten werden müssen. Um die Landwirte bei der Einhaltung dieser Vorgaben zu unterstützen, werden im Layer des Landes Steiermark, der im INVEKOS GIS einsehbar ist, die D\n"
     ]
    }
   ],
   "source": [
    "print(response)"
   ]
  }
 ],
 "metadata": {
  "kernelspec": {
   "display_name": "oepul-chat-m",
   "language": "python",
   "name": "python3"
  },
  "language_info": {
   "codemirror_mode": {
    "name": "ipython",
    "version": 3
   },
   "file_extension": ".py",
   "mimetype": "text/x-python",
   "name": "python",
   "nbconvert_exporter": "python",
   "pygments_lexer": "ipython3",
   "version": "3.9.18"
  }
 },
 "nbformat": 4,
 "nbformat_minor": 2
}
