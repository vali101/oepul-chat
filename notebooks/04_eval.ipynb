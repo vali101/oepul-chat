{
 "cells": [
  {
   "cell_type": "code",
   "execution_count": 9,
   "metadata": {},
   "outputs": [],
   "source": [
    "# import json tmp/eval_results.json\n",
    "import json\n",
    "\n",
    "with open('tmp/eval_results.json') as f:\n",
    "    eval_results = json.load(f)\n",
    "\n",
    "avg_score = sum([x['score'] for x in eval_results]) / len(eval_results)\n",
    "avg_score_manual = sum([x['manual_score'] for x in eval_results]) / len(eval_results)"
   ]
  },
  {
   "cell_type": "code",
   "execution_count": 11,
   "metadata": {},
   "outputs": [
    {
     "name": "stdout",
     "output_type": "stream",
     "text": [
      "Average score: 4.12\n",
      "Average manual score: 3.83\n"
     ]
    }
   ],
   "source": [
    "print(f'Average score: {avg_score:.2f}')\n",
    "print(f'Average manual score: {avg_score_manual:.2f}')"
   ]
  },
  {
   "cell_type": "code",
   "execution_count": null,
   "metadata": {},
   "outputs": [],
   "source": []
  }
 ],
 "metadata": {
  "kernelspec": {
   "display_name": "oepul-chat-m",
   "language": "python",
   "name": "python3"
  },
  "language_info": {
   "codemirror_mode": {
    "name": "ipython",
    "version": 3
   },
   "file_extension": ".py",
   "mimetype": "text/x-python",
   "name": "python",
   "nbconvert_exporter": "python",
   "pygments_lexer": "ipython3",
   "version": "3.9.18"
  }
 },
 "nbformat": 4,
 "nbformat_minor": 2
}
