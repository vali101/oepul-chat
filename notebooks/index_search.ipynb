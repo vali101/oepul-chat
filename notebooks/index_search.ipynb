{
 "cells": [
  {
   "cell_type": "code",
   "execution_count": 1,
   "metadata": {},
   "outputs": [],
   "source": [
    "# add ../oepul_chat to path \n",
    "from llama_index.evaluation import RetrieverEvaluator\n",
    "import sys\n",
    "sys.path.append('../oepul_chat')"
   ]
  },
  {
   "cell_type": "code",
   "execution_count": 2,
   "metadata": {},
   "outputs": [],
   "source": [
    "from oepul_chat import load_index, get_header_path_mappings"
   ]
  },
  {
   "cell_type": "code",
   "execution_count": 5,
   "metadata": {},
   "outputs": [],
   "source": [
    "index = load_index('indices/oepul_index/')\n",
    "retriever = index.as_retriever(top_k=8)\n",
    "documents = index.docstore.docs\n",
    "\n",
    "header_path_mappings = get_header_path_mappings(documents)\n",
    "\n",
    "# each element in the list as line in the file\n",
    "with open('tmp/header_path_mappings.txt', 'w') as f:\n",
    "    for key in header_path_mappings:\n",
    "        f.write(f'{key}\\n')"
   ]
  },
  {
   "cell_type": "code",
   "execution_count": 35,
   "metadata": {},
   "outputs": [],
   "source": []
  },
  {
   "cell_type": "code",
   "execution_count": 22,
   "metadata": {},
   "outputs": [
    {
     "data": {
      "text/plain": [
       "['6193a3bc-df78-4480-b945-21c523890867']"
      ]
     },
     "execution_count": 22,
     "metadata": {},
     "output_type": "execute_result"
    }
   ],
   "source": [
    "def get_ids_of_header_path(header_path, header_path_mappings):\n",
    "    return header_path_mappings[header_path]\n",
    "\n",
    "\n",
    "get_ids_of_header_path(\n",
    "    'Vorbeugender Grundwasserschutz – Acker/FÖRDERBEDINGUNGEN/SCHLAGBEZOGENE AUFZEICHNUNGEN',\n",
    "    header_path_mappings)"
   ]
  },
  {
   "cell_type": "code",
   "execution_count": 27,
   "metadata": {},
   "outputs": [
    {
     "data": {
      "text/plain": [
       "['577cb7ff-6fd1-425a-bdcd-099455def520',\n",
       " '02a0e1b7-6238-4ea7-888e-11815d6e7a49']"
      ]
     },
     "execution_count": 27,
     "metadata": {},
     "output_type": "execute_result"
    }
   ],
   "source": [
    "def get_doc_ids_by_query(query):\n",
    "    res = retriever.retrieve(query)\n",
    "    return [r.id_ for r in res]\n",
    "\n",
    "get_doc_ids_by_query(\"Wie groß müssen die Schläge in der Maßnahme 'Vorbeugender Grundwasserschutz sein?\")"
   ]
  },
  {
   "cell_type": "code",
   "execution_count": 30,
   "metadata": {},
   "outputs": [
    {
     "ename": "NameError",
     "evalue": "name 'retriever_evaluator' is not defined",
     "output_type": "error",
     "traceback": [
      "\u001b[0;31m---------------------------------------------------------------------------\u001b[0m",
      "\u001b[0;31mNameError\u001b[0m                                 Traceback (most recent call last)",
      "Cell \u001b[0;32mIn[30], line 19\u001b[0m\n\u001b[1;32m     14\u001b[0m \u001b[38;5;28;01mfor\u001b[39;00m header_path \u001b[38;5;129;01min\u001b[39;00m expected_header_paths:\n\u001b[1;32m     15\u001b[0m     true_doc_ids\u001b[38;5;241m.\u001b[39mextend(get_ids_of_header_path(header_path, mappings))\n\u001b[0;32m---> 19\u001b[0m \u001b[43mretriever_evaluator\u001b[49m\u001b[38;5;241m.\u001b[39mevaluate(\n\u001b[1;32m     20\u001b[0m     query\u001b[38;5;241m=\u001b[39mquery, expected_ids\u001b[38;5;241m=\u001b[39mtrue_doc_ids\n\u001b[1;32m     21\u001b[0m )\n",
      "\u001b[0;31mNameError\u001b[0m: name 'retriever_evaluator' is not defined"
     ]
    }
   ],
   "source": [
    "eval = [{\n",
    "    \"query\": \"Wie groß müssen die Schläge in der Maßnahme 'Vorbeugender Grundwasserschutz sein?\",\n",
    "    \"header_paths\": [\n",
    "        'Vorbeugender Grundwasserschutz – Acker/FÖRDERBEDINGUNGEN/SCHLAGBEZOGENE AUFZEICHNUNGEN'],\n",
    "    \"expected_answer\": \"Schläge müssen mindestens 0,3 ha groß sein.\"\n",
    "}]\n",
    "\n",
    "for item in eval: \n",
    "    query = item['query']\n",
    "    expected_header_paths = item['header_paths']\n",
    "    expected_answer = item['expected_answer']\n",
    "    \n",
    "    true_doc_ids = []\n",
    "    for header_path in expected_header_paths:\n",
    "        true_doc_ids.extend(get_ids_of_header_path(header_path, mappings))\n",
    "\n",
    "    \n",
    "    \n",
    "    retriever_evaluator.evaluate(\n",
    "        query=query, expected_ids=true_doc_ids\n",
    "    )\n",
    "    "
   ]
  }
 ],
 "metadata": {
  "kernelspec": {
   "display_name": "oepul-chat-m",
   "language": "python",
   "name": "python3"
  },
  "language_info": {
   "codemirror_mode": {
    "name": "ipython",
    "version": 3
   },
   "file_extension": ".py",
   "mimetype": "text/x-python",
   "name": "python",
   "nbconvert_exporter": "python",
   "pygments_lexer": "ipython3",
   "version": "3.10.9"
  }
 },
 "nbformat": 4,
 "nbformat_minor": 2
}
